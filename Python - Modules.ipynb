{
 "cells": [
  {
   "cell_type": "markdown",
   "id": "0d1ba687",
   "metadata": {},
   "source": [
    "<h1 align=\"center\"> Python - Modules </h1>"
   ]
  },
  {
   "cell_type": "markdown",
   "id": "42cdf0fe",
   "metadata": {},
   "source": [
    "## Math"
   ]
  },
  {
   "cell_type": "code",
   "execution_count": 2,
   "id": "35d1427f",
   "metadata": {},
   "outputs": [
    {
     "name": "stdout",
     "output_type": "stream",
     "text": [
      "['__doc__', '__loader__', '__name__', '__package__', '__spec__', 'acos', 'acosh', 'asin', 'asinh', 'atan', 'atan2', 'atanh', 'ceil', 'comb', 'copysign', 'cos', 'cosh', 'degrees', 'dist', 'e', 'erf', 'erfc', 'exp', 'expm1', 'fabs', 'factorial', 'floor', 'fmod', 'frexp', 'fsum', 'gamma', 'gcd', 'hypot', 'inf', 'isclose', 'isfinite', 'isinf', 'isnan', 'isqrt', 'lcm', 'ldexp', 'lgamma', 'log', 'log10', 'log1p', 'log2', 'modf', 'nan', 'nextafter', 'perm', 'pi', 'pow', 'prod', 'radians', 'remainder', 'sin', 'sinh', 'sqrt', 'tan', 'tanh', 'tau', 'trunc', 'ulp']\n",
      "3.141592653589793\n",
      "2.718281828459045\n",
      "1.0\n",
      "0.6931471805599453 0.3010299956639812 1.0\n",
      "6.0\n",
      "8.0\n",
      "8\n",
      "123\n",
      "123\n",
      "2 3\n",
      "-3 -2\n",
      "2.201546\n",
      "2.201546\n",
      "3.0\n",
      "2.6\n",
      "2.57\n",
      "(0.25, 100.0) (0.25, 0.0) (0.0, 100.0)\n",
      "3.0\n",
      "4.0\n",
      "(3-4j)\n",
      "0.9272952180016122\n",
      "5.0\n",
      "89\n",
      "21\n",
      "-0.9880316240928618 0.49999999999999994\n",
      "0.15425144988758405 0.8660254037844387\n",
      "-6.405331196646276 0.5773502691896257\n",
      "0.0 3.141592653589793 1.1902899496825317\n",
      "0.8960553845713439\n",
      "180.0 90.0\n",
      "3.141592653589793\n",
      "5.0\n",
      "(4, 10)\n"
     ]
    }
   ],
   "source": [
    "import math as m\n",
    "import cmath   #for complex number calculation\n",
    "\n",
    "print(dir(m))\n",
    "print(m.pi)\n",
    "print(m.e)\n",
    "print(m.log(m.e))\n",
    "print(m.log(2),m.log10(2),m.log2(2))\n",
    "print(m.sqrt(36))\n",
    "print(m.pow(2,3))\n",
    "print(2**3)\n",
    "print(m.trunc(123.56))\n",
    "print(int(123.56))\n",
    "print(m.floor(2.201546),m.ceil(2.201546))\n",
    "print(m.floor(-2.201546),m.ceil(-2.201546))\n",
    "print(m.fabs(-2.201546))\n",
    "print(abs(-2.201546))\n",
    "print(round(2.566,0))         #to get 2.56=3\n",
    "print(round(2.566,1))         # precision=1 decimal\n",
    "print(round(2.566,2))         #Precision=2 decimal\n",
    "print(m.modf(100.25),m.modf(0.25),m.modf(100))  \n",
    "\n",
    "\n",
    "z=complex(3,4)\n",
    "print(z.real)\n",
    "print(z.imag)\n",
    "print(z.conjugate())\n",
    "print(cmath.phase(z))\n",
    "print(abs(z))       #Print(m.fabs(z) would not give mod value \n",
    "\n",
    "X=21,30,50,66,51,89,26,56\n",
    "print(max(X))\n",
    "print(min(X))\n",
    "\n",
    "print(m.sin(30),m.sin(m.pi/6)) #input taken in rad by default\n",
    "print(m.cos(30),m.cos(m.pi/6))\n",
    "print(m.tan(30),m.tan(m.pi/6))\n",
    "print(m.asin(0),m.acos(-1),m.atan(2.5))#answer in radians\n",
    "print(m.atan2(5,4))   #atan2(y,x)=atan(y/x)\n",
    "print(m.degrees(m.pi),m.degrees(m.pi/2)) #rad to deg conversion\n",
    "print(m.radians(m.degrees(m.pi)))        #deg to rad conversion\n",
    "print(m.hypot(3,4))   #hypt=hypotenuse\n",
    "\n",
    "print(divmod(94,21)) #prints quotient and remainder"
   ]
  },
  {
   "cell_type": "markdown",
   "id": "f254a691",
   "metadata": {},
   "source": [
    "## Datetime"
   ]
  },
  {
   "cell_type": "code",
   "execution_count": 3,
   "id": "40f34f9a",
   "metadata": {},
   "outputs": [
    {
     "name": "stdout",
     "output_type": "stream",
     "text": [
      "1996-08-20\n",
      "1996 8 20\n",
      "2023-02-07 21:32:26.300013 2023-02-07\n",
      "9667 days, 0:00:00\n",
      "835228800.0\n",
      "1\n",
      "2\n",
      "2 300013\n",
      "07-02-23 21:32\n",
      "2019-07-22\n",
      "22\n",
      "02:51:00\n",
      "2 51\n",
      "2019-07-22 02:51:00\n",
      "0\n",
      "2019-07-29 08:21:00\n",
      "21\n"
     ]
    }
   ],
   "source": [
    "import datetime as dt\n",
    "\n",
    "birthday=dt.date(1996,8,20)\n",
    "print(birthday)\n",
    "print(birthday.year,birthday.month,birthday.day)\n",
    "\n",
    "#current date and time \n",
    "now=dt.datetime.today()\n",
    "Now=dt.date.today()\n",
    "print(now,Now)\n",
    "My_age=Now-birthday;print(My_age)    #My_age in days by default \n",
    "print(My_age.total_seconds())        #My age in seconds\n",
    "print(now.weekday())                    #Monday=0 : Sunday=6\n",
    "print(now.isoweekday())                 #Monay=1  : Sunday=7\n",
    "print(now.month,now.microsecond)\n",
    "print (now.strftime(\"%d-%m-%y %H:%M\"))\n",
    "\n",
    "#chandrayan2 date & time of launch\n",
    "launch_date=dt.date(2019,7,22)\n",
    "launch_time=dt.time(2,51,00)\n",
    "launch_datetime=dt.datetime(2019,7,22,2,51,00)\n",
    "launch_delay=dt.timedelta(days=7,hours=5,minutes=30)\n",
    "new_launch_datetime  =  launch_datetime   +   launch_delay\n",
    "print(launch_date);     print(launch_date.day)\n",
    "print(launch_time);     print(launch_time.hour,launch_time.minute)\n",
    "print(launch_datetime); print(launch_datetime.second)\n",
    "print(new_launch_datetime);print(new_launch_datetime.minute)"
   ]
  },
  {
   "cell_type": "markdown",
   "id": "50310cd0",
   "metadata": {},
   "source": [
    "## Random"
   ]
  },
  {
   "cell_type": "code",
   "execution_count": 5,
   "id": "94883f1c",
   "metadata": {},
   "outputs": [
    {
     "name": "stdout",
     "output_type": "stream",
     "text": [
      "a :  0.4984054510796354\n",
      "b :  6.823900836597577\n"
     ]
    }
   ],
   "source": [
    "import random \n",
    "\n",
    "a=random.random()               # Prints any value between 0 and 1(exclusive of 1)\n",
    "b=random.uniform(5,10)          # Prints any values between 5 and 10\n",
    "\n",
    "print(\"a : \",a)\n",
    "print(\"b : \",b)"
   ]
  },
  {
   "cell_type": "code",
   "execution_count": 8,
   "id": "598f86c4",
   "metadata": {},
   "outputs": [
    {
     "name": "stdout",
     "output_type": "stream",
     "text": [
      "d :  Paper\n",
      "e :  ['Rock', 'Rock']\n",
      "f :  ['Paper', 'Scisor']\n"
     ]
    }
   ],
   "source": [
    "name=['Rock','Paper','Scisor']\n",
    "d=random.choice(name)\n",
    "e=random.choices(name, k=2)    # Equally likely occuring events (repeatation allowed)\n",
    "f=random.sample(name, k=2)     # Equally likely occuring events (without repeatation)\n",
    "print(\"d : \",d)\n",
    "print(\"e : \",e)\n",
    "print(\"f : \",f)"
   ]
  },
  {
   "cell_type": "code",
   "execution_count": 13,
   "id": "a767f5a8",
   "metadata": {},
   "outputs": [
    {
     "data": {
      "text/plain": [
       "[3, 4, 2, 1]"
      ]
     },
     "execution_count": 13,
     "metadata": {},
     "output_type": "execute_result"
    }
   ],
   "source": [
    "deck=list(range(1,5))\n",
    "random.shuffle(deck)\n",
    "deck                  # with every execution the index of elements gets randomised"
   ]
  },
  {
   "cell_type": "code",
   "execution_count": 14,
   "id": "0811517e",
   "metadata": {},
   "outputs": [
    {
     "name": "stdout",
     "output_type": "stream",
     "text": [
      "7.714819683215909\n",
      "9.071232967849475\n",
      "9.308381460824656\n",
      "5.179289580071565\n",
      "8.268128538257757\n",
      "9.994839576422388\n",
      "7.152212954733999\n",
      "5.649489131447319\n",
      "8.706965094799628\n",
      "6.933962557778081\n"
     ]
    }
   ],
   "source": [
    "for i in range(10):\n",
    "    print(random.uniform(5,10))                        # Prints the random numbers  \n",
    "    \n"
   ]
  },
  {
   "cell_type": "code",
   "execution_count": 15,
   "id": "45b9f583",
   "metadata": {},
   "outputs": [
    {
     "name": "stdout",
     "output_type": "stream",
     "text": [
      "-6.572572911631076\n",
      "0.0979518916966261\n",
      "1.4224469788639682\n",
      "4.30942148060999\n",
      "0.5158314139273377\n",
      "-4.096917010171234\n",
      "7.887834448120872\n",
      "11.844456765941429\n",
      "-2.4091919216926976\n",
      "-1.1765613397235877\n"
     ]
    }
   ],
   "source": [
    "for i in range(10):\n",
    "    print(random.normalvariate(mu=0,sigma=5))          # For Normal distribution"
   ]
  },
  {
   "cell_type": "code",
   "execution_count": 19,
   "id": "75e48945",
   "metadata": {},
   "outputs": [
    {
     "name": "stdout",
     "output_type": "stream",
     "text": [
      "c :  5\n",
      "d :  2\n",
      "k :  35\n"
     ]
    }
   ],
   "source": [
    "c=random.randint(1,6)           # Prints only integers between 1 and 6(inclusive of 1 & 6) example= Dice\n",
    "r=random.getrandbits(3)         # Prints Integers with 3 random bits(0[000] to 7[111])\n",
    "k=random.randrange(start=5,     # Prints any integer in the AP series thats starts with 5 and ends with 100 and step=3\n",
    "                   stop=100,\n",
    "                   step=3)\n",
    "\n",
    "\n",
    "print(\"c : \",c)\n",
    "print(\"d : \",r)\n",
    "print(\"k : \",k)"
   ]
  },
  {
   "cell_type": "code",
   "execution_count": null,
   "id": "6814bd38",
   "metadata": {},
   "outputs": [],
   "source": []
  },
  {
   "cell_type": "code",
   "execution_count": null,
   "id": "b8ba7240",
   "metadata": {},
   "outputs": [],
   "source": []
  }
 ],
 "metadata": {
  "kernelspec": {
   "display_name": "Python 3 (ipykernel)",
   "language": "python",
   "name": "python3"
  },
  "language_info": {
   "codemirror_mode": {
    "name": "ipython",
    "version": 3
   },
   "file_extension": ".py",
   "mimetype": "text/x-python",
   "name": "python",
   "nbconvert_exporter": "python",
   "pygments_lexer": "ipython3",
   "version": "3.10.9"
  }
 },
 "nbformat": 4,
 "nbformat_minor": 5
}
