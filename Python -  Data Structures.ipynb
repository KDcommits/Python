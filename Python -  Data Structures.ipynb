{
 "cells": [
  {
   "cell_type": "markdown",
   "id": "6f10f930",
   "metadata": {},
   "source": [
    "<h2 align=\"center\"> Python - Data Structures </h2>"
   ]
  },
  {
   "cell_type": "markdown",
   "id": "ef5fe66e",
   "metadata": {},
   "source": [
    "## 1. String"
   ]
  },
  {
   "cell_type": "markdown",
   "id": "98346f49",
   "metadata": {},
   "source": [
    "### Basic Operations"
   ]
  },
  {
   "cell_type": "code",
   "execution_count": 1,
   "id": "67eab7e3",
   "metadata": {
    "scrolled": false
   },
   "outputs": [
    {
     "name": "stdout",
     "output_type": "stream",
     "text": [
      "H\n",
      "7\n",
      "ello brother_007\n",
      "Hello brother_00\n",
      "Hel\n",
      "ello brother_00\n",
      "17\n",
      "Hello brother_007\n",
      "Hello brother_007\n",
      "hello brother_007\n",
      "hello brother_007\n",
      "HELLO BROTHER_007\n",
      "Hello Brother_007\n",
      "Hello brother_007\n",
      "hELLO BROTHER_007\n",
      "____Hello brother_007____\n",
      "........Hello brother_007\n",
      "b'Hello brother_007'\n",
      "4\n",
      "4\n",
      "9\n",
      "2 1\n",
      "Hey brother_007\n",
      "False True\n",
      "False False\n",
      "['Hello', 'brother_007']\n",
      "['Hello brother', '007']\n",
      "['Hello brother_007']\n",
      "False\n",
      "False\n",
      "False\n",
      "False\n",
      "False\n",
      "False\n",
      "False\n",
      "False\n"
     ]
    }
   ],
   "source": [
    "x=\"Hello brother_007\"\n",
    "print(x[0])                   # Prints First letter of the string\n",
    "print(x[-1])                  # Prints last letter of the string\n",
    "print(x[1:])                  # print everything excluding first index\n",
    "print(x[:-1])                 # Print everything except last index\n",
    "print(x[0:3])                 # Starts from 0th index but doesn't include the limiting range\n",
    "print(x[1:-1])                # prints all except the first and last index\n",
    "print(len(x))                 # len() function to determine the length of the string\n",
    "print(x)\n",
    "print(x.strip())\n",
    "print(x.lower())              # Makes all the letters smallcase\n",
    "print(x.casefold())           #Same as str.lower()\n",
    "print(x.upper())              # Makes all the letters uppercase\n",
    "print(x.title())              # Makes the first letter of each word capital\n",
    "print(x.capitalize())         # Makes the first letter uppercase only\n",
    "print(x.swapcase())           # Makes Uppercase letter Smallcase and vice-versa\n",
    "print(x.center(25,'_'))       #\n",
    "print(x.rjust(25,'.'))\n",
    "#print(x.join())\n",
    "print(x.encode())             # Puts the whole string inside quotation\n",
    "print(x.index('o'))           # Prints the index of the letter 'o'\n",
    "print(x.find('o'))            # same as str.index()\n",
    "print(x.rfind('t'))\n",
    "print(x.count('o'),x.count('t'))\n",
    "print(x.replace(\"Hello\",'Hey'))\n",
    "print('K' in x, 'K' not in x)\n",
    "print(x.endswith('r'),x.startswith('l'))\n",
    "print(x.split())               # Splits the string into list elements whenever there is a space by default\n",
    "print(x.split('_'))            # Splits the string into list elements whenever there is a '_'\n",
    "print(x.splitlines())          # makes the whole string a list element\n",
    "\n",
    "\n",
    "print(x.isalnum())               # Returns true if string has at least 1 character and all characters are alphanumeric and false otherwise.\n",
    "print(x.isalpha())               # Returns true if string has at least 1 character and all characters are alphabetic and false otherwise.\n",
    "print(x.isdigit())               # Returns true if the string contains only digits and false otherwise\n",
    "print(x.islower())               # Returns true if string has at least 1 cased character and all cased characters are in lowercase and false otherwise.\n",
    "print(x.isnumeric())             # Returns true if a unicode string contains only numeric characters and false otherwise\n",
    "print(x.isspace())               # Returns true if string contains only whitespace characters and false otherwise.\n",
    "print(x.istitle())               # Returns true if string is properly \"titlecased\" and false otherwise\n",
    "print(x.isupper())               # Returns true if string has at least one cased character and all cased characters are in uppercase and false otherwise.\n"
   ]
  },
  {
   "cell_type": "markdown",
   "id": "f6152016",
   "metadata": {},
   "source": [
    "### f-string"
   ]
  },
  {
   "cell_type": "code",
   "execution_count": 26,
   "id": "14c0ddfd",
   "metadata": {},
   "outputs": [
    {
     "name": "stdout",
     "output_type": "stream",
     "text": [
      "Type your name:Krishnendu\n",
      "Type your age:26\n",
      "Type your marks in %:99\n",
      "I am Krishnendu and my age is 26 & percentage is 99.00\n",
      "my name is Krishnendu Dey\n",
      "my name is Krishnendu Dey\n",
      "Hi,I am Krishnendu.I am 23 years of age\n",
      "Hi,I am Krishnendu.I am 23 years of age\n",
      "Value of pi is 3.142\n",
      "The value is 001\n",
      "The value is 002\n",
      "The value is 003\n",
      "The value is 004\n",
      "The value is 005\n",
      "The value is 006\n",
      "The value is 007\n",
      "The value is 008\n",
      "The value is 009\n",
      "The value is 010\n",
      "My Birthday is on August 20,1996 \n"
     ]
    }
   ],
   "source": [
    "#ABOUT STRINGS\n",
    "\n",
    "\n",
    "#(Formatted String)\n",
    "name= input(\"Type your name:\")\n",
    "age=int(input(\"Type your age:\"))\n",
    "marks=float(input(\"Type your marks in %:\"))\n",
    "print(\"I am %s and my age is %d & percentage is %0.2f\" %(name,age,marks))\n",
    "\n",
    "\n",
    "#f-String\n",
    "\n",
    "first='Krishnendu'\n",
    "last='Dey'\n",
    "fullname1='my name is {} {}'.format(first,last)\n",
    "fullname2=f'my name is {first} {last}'\n",
    "print(fullname1)\n",
    "print(fullname2)\n",
    "person={'name':'Krishnendu','age':23 }\n",
    "info1='Hi,I am {}.I am {} years of age'.format(person['name'],person['age'])\n",
    "info2=f\"Hi,I am {person['name']}.I am {person['age']} years of age\"\n",
    "print(info1)\n",
    "print(info2)\n",
    "\n",
    "import math as m\n",
    "Y=f\"Value of pi is {m.pi:0.3f}\"  #To make make precision upto 3 decimal points for float\n",
    "print(Y)\n",
    "\n",
    "for i in range(1,11):\n",
    "    X=f\"The value is {i:03}\"     #To make 3 digits appear before integer value \n",
    "    print(X)\n",
    "\n",
    "from datetime import datetime\n",
    "DOB=datetime(1996,8,20)\n",
    "Birthday=f\"My Birthday is on {DOB:%B %d,%Y }\"\n",
    "print(Birthday)\n"
   ]
  },
  {
   "cell_type": "markdown",
   "id": "608f36d2",
   "metadata": {},
   "source": [
    "### Some problems"
   ]
  },
  {
   "cell_type": "code",
   "execution_count": 27,
   "id": "bbc7568d",
   "metadata": {},
   "outputs": [
    {
     "name": "stdout",
     "output_type": "stream",
     "text": [
      "8\n",
      "qwertyuipasdfghjklzxvbnm\n",
      "mwertyuiopasdfghjklzxvbnq\n"
     ]
    }
   ],
   "source": [
    "#PROBLEM 2.0\n",
    "# To remove i'th index character from a string\n",
    "     #Here we remove o\n",
    "X='qwertyuiopasdfghjklzxvbnm'\n",
    "print(X.find('o')) # 1st find the index of the number to be removed\n",
    "a=X[:8]            #a=X[:i]\n",
    "b=X[9:]            #b=X[i+1:]\n",
    "r=a+b              #r=a+b\n",
    "print(r)\n",
    "Y=X[1:-1]          #To interchange 1st and last chr. of a string\n",
    "print(X[-1]+Y+X[0])\n"
   ]
  },
  {
   "cell_type": "code",
   "execution_count": 29,
   "id": "bc0ea663",
   "metadata": {},
   "outputs": [
    {
     "name": "stdout",
     "output_type": "stream",
     "text": [
      "Counter({'i': 4, 's': 4, 'p': 2, 'm': 1})\n"
     ]
    }
   ],
   "source": [
    "#PROBLEM 3.0\n",
    "#To determnine freq. of occurance of each letter in a string\n",
    "from collections import Counter   #Use of counter module\n",
    "X='mississippi'\n",
    "print(Counter(X))"
   ]
  },
  {
   "cell_type": "code",
   "execution_count": 30,
   "id": "2e7e6001",
   "metadata": {},
   "outputs": [
    {
     "name": "stdout",
     "output_type": "stream",
     "text": [
      "The guy is  poor\n"
     ]
    }
   ],
   "source": [
    "#PROBLEM 3.0\n",
    "  #Removing a word from a sentence\n",
    "X='The guy is not poor'\n",
    "r=X.replace('not','')          \n",
    "print(r)"
   ]
  },
  {
   "cell_type": "code",
   "execution_count": 31,
   "id": "5eabd79d",
   "metadata": {},
   "outputs": [
    {
     "name": "stdout",
     "output_type": "stream",
     "text": [
      "name_country\n",
      "name_country\n"
     ]
    }
   ],
   "source": [
    "#Use of join() method\n",
    "\n",
    "X = {\"name\": \"John\", \"country\": \"Norway\"}   #Joining Dictionary\n",
    "seperator = \"_\"               \n",
    "Y = seperator.join(X)\n",
    "print(Y)\n",
    "print(\"_\".join(X))"
   ]
  },
  {
   "cell_type": "code",
   "execution_count": 32,
   "id": "efacc81d",
   "metadata": {},
   "outputs": [
    {
     "name": "stdout",
     "output_type": "stream",
     "text": [
      "John_Peter_Vicky\n",
      "John_Peter_Vicky\n"
     ]
    }
   ],
   "source": [
    "myTuple = (\"John\", \"Peter\", \"Vicky\")       #Joining Tuple\n",
    "x = \"_\".join(myTuple)\n",
    "print(x)\n",
    "\n",
    "myList = [\"John\", \"Peter\", \"Vicky\"]       #Joining List\n",
    "x = \"_\".join(myList)\n",
    "print(x)\n"
   ]
  },
  {
   "cell_type": "code",
   "execution_count": 33,
   "id": "4d49ff5e",
   "metadata": {},
   "outputs": [
    {
     "name": "stdout",
     "output_type": "stream",
     "text": [
      "lluB\n"
     ]
    }
   ],
   "source": [
    "#Problem 5.0\n",
    "  # Python function to reverses a string if it's length is a multiple of 4\n",
    "X=['Bull','Dog']\n",
    "for i in X :\n",
    "    if len(i)%4==0:\n",
    "        Y=list(i)\n",
    "        Y.reverse()\n",
    "        print(''.join(Y))"
   ]
  },
  {
   "cell_type": "code",
   "execution_count": 34,
   "id": "7cc3ddb8",
   "metadata": {},
   "outputs": [
    {
     "name": "stdout",
     "output_type": "stream",
     "text": [
      "80, 443, 8080, 8081\n"
     ]
    }
   ],
   "source": [
    "#Problem 6.0\n",
    "# From list to string \n",
    "list_of_ints = [80, 443, 8080, 8081]\n",
    "print (str(list_of_ints).strip('[]'))"
   ]
  },
  {
   "cell_type": "markdown",
   "id": "d74d8ec6",
   "metadata": {},
   "source": [
    "## 2. List"
   ]
  },
  {
   "cell_type": "markdown",
   "id": "ef98d77d",
   "metadata": {},
   "source": [
    "### Basic Operations"
   ]
  },
  {
   "cell_type": "code",
   "execution_count": 3,
   "id": "a1f11900",
   "metadata": {},
   "outputs": [
    {
     "name": "stdout",
     "output_type": "stream",
     "text": [
      "<class 'list'> <class 'list'> <class 'list'>\n",
      "4 5 4\n",
      "['physics', 'chemistry', 1997, 2000] [11, 22, 53, 84, 75] ['ax', 'xu', 'ikkt', 'lfdjd']\n",
      "['physics', 'chemistry', 1997, 2000, 11, 22, 53, 84, 75, 'ax', 'xu', 'ikkt', 'lfdjd']\n",
      "1997 11 lfdjd\n",
      "[11, 53, 75] ['lfdjd', 'xu']\n",
      "['physics', 'chemistry', 1996, 2000]\n",
      "[11, 22, 53, 84]\n",
      "False\n",
      "84 ax\n",
      "[11, 22, 53, 84]\n",
      "['ax', 'ikkt', 'lfdjd', 'xu']\n",
      "['lfdjd', 'ikkt', 'ax', 'xu']\n",
      "[84, 53, 22, 11]\n",
      "['xu', 'ax', 'ikkt', 'lfdjd']\n",
      "['physics', 'chemistry', 1996, 2000, 2020]\n",
      "['Maths', 'physics', 'chemistry', 1996, 2000, 2020]\n",
      "['Maths', 'physics', 'chemistry', 1996, 2000, 2020, 'Maths', 'physics', 'chemistry', 1996, 2000, 2020]\n",
      "['Maths', 'chemistry', 1996, 2000, 2020, 'Maths', 'physics', 'chemistry', 1996, 2000, 2020]\n",
      "2 0\n",
      "['Maths', 'chemistry', 1996, 2000, 2020, 'Maths', 'physics', 'chemistry', 1996, 2000]\n",
      "0 4\n",
      "['H', 'e', 'l', 'l', 'o', ' ', 'P', 'y', 't', 'h', 'o', 'n']\n"
     ]
    }
   ],
   "source": [
    "L1 = ['physics', 'chemistry', 1997, 2000]\n",
    "L2 = [11, 22, 53, 84, 75 ]\n",
    "L3 = [\"ax\", \"xu\", \"ikkt\", \"lfdjd\"]\n",
    "print(type(L1),type(L2),type(L3))\n",
    "print(len(L1),len(L2),len(L3))\n",
    "print(L1,L2,L3)                     \n",
    "print(L1+L2+L3)                    # List concatination\n",
    "print(L1[2],L2[0],L3[3])\n",
    "print(L2[0:5:2],L3[5:0:-2])\n",
    "L1[2]=1996 ;print(L1)              #Modifying an element inside a list\n",
    "del L2[4] ; print(L2)              #deleting elemnt of a list\n",
    "print(\"c\" in L3)      #to check if an element is in a list or not\n",
    "print(max(L2),min(L3))\n",
    "          #print(max(L1))  not possible as both numeric and char. type datas are present\n",
    "L2.sort();print(L2)         #Ascending order sorting for numeric\n",
    "L3.sort();print(L3)         #Sorting alphabetically(defaut)forchar\n",
    "L3.sort(key=len,reverse=True);print(L3)  #Alphabetical+length ascending\n",
    "L2.reverse(),L3.reverse();print(L2) ; print(L3)\n",
    "L1.append(2020); print(L1)          #Adds element @ the end of list\n",
    "L1.insert(0,'Maths'); print(L1) \n",
    "L1.extend(L1);print(L1)            #extending=list concatination\n",
    "L1.remove(\"physics\");print(L1)     #among 2 physics 1 is removed\n",
    "print(L1.count(2020),L1.count(0))  #to detrmine how many time an element occurs in a list \n",
    "L1.pop() ;print(L1)               #Removes last item from the list\n",
    "print(L1.index('Maths'),\n",
    "                 L1.index(2020)) #finding index of element\n",
    "                 \n",
    "Str=\"Hello Python\"\n",
    "print(list(Str))   #converting all the letters(including space) of                the string into a list\n",
    "                "
   ]
  },
  {
   "cell_type": "markdown",
   "id": "b780fc0e",
   "metadata": {},
   "source": [
    "### Sort & Sorted"
   ]
  },
  {
   "cell_type": "code",
   "execution_count": 4,
   "id": "dab6d321",
   "metadata": {},
   "outputs": [
    {
     "name": "stdout",
     "output_type": "stream",
     "text": [
      "['bull', 'dog', 'donkey', 'horse', 'monkey', 'pig']\n",
      "['pig', 'monkey', 'horse', 'donkey', 'dog', 'bull']\n",
      "[-35, -9, 0, 1, 5, 6, 12, 68]\n",
      "[68, 12, 6, 5, 1, 0, -9, -35]\n",
      "[('Amazon', 1995.9, 'Bezos', 750000), ('Google', 1162.92, 'Pichai', 103549), ('Facebook', 163.3, 'Mark', 44942), ('Microsoft', 115.65, 'Bill', 148465)]\n",
      "[('Amazon', 1995.9, 'Bezos', 750000), ('Microsoft', 115.65, 'Bill', 148465), ('Google', 1162.92, 'Pichai', 103549), ('Facebook', 163.3, 'Mark', 44942)]\n",
      "['bull', 'dog', 'donkey', 'horse', 'monkey', 'pig']\n",
      "['K', 'd', 'e', 'h', 'i', 'n', 'n', 'r', 's', 'u']\n",
      "[1, 3, 6, 12, 30, 32, 65, 85, 95, 578]\n"
     ]
    }
   ],
   "source": [
    "#Example1.0\n",
    "animals=['dog','bull','monkey','donkey','pig','horse']\n",
    "animals.sort();print(animals)             #Alphabetical sorting\n",
    "animals.sort(reverse=True);print(animals) #Reverse  sorting\n",
    "nums=[1,5,12,68,0,-9,6,-35]\n",
    "nums.sort();print(nums)                 #Ascending sorting(default)\n",
    "nums.sort(reverse=True);print(nums)     #Descending sorting\n",
    "\n",
    "\n",
    "#Example 2.0\n",
    "companies=[('Google',1162.92,'Pichai',103549),\n",
    "           ('Facebook',163.3,'Mark',44942),\n",
    "           ('Amazon',1995.9,'Bezos',750000),\n",
    "           ('Microsoft',115.65,'Bill',148465)]\n",
    "           \n",
    "net_worth= lambda companies:companies[1]\n",
    "companies.sort(key=net_worth,reverse=True)\n",
    "print(companies)\n",
    "employees= lambda companies:companies[3]\n",
    "companies.sort(key=employees,reverse=True)\n",
    "print(companies)\n",
    "\n",
    "#Example 3.0\n",
    "   #Using Sorted fun\n",
    "animals=['dog','bull','monkey','donkey','pig','horse']\n",
    "print(sorted(animals))\n",
    "name='Krishnendu'\n",
    "print(sorted(name))     \n",
    "nums=(85,65,32,6,578,95,30,12,3,1)  \n",
    "print(sorted(nums)) #Use of sort() cannot sort elements of a tuple but use of the sorted() method can."
   ]
  },
  {
   "cell_type": "markdown",
   "id": "9490ac56",
   "metadata": {},
   "source": [
    "### List Comprehension"
   ]
  },
  {
   "cell_type": "code",
   "execution_count": 5,
   "id": "a054bdd9",
   "metadata": {},
   "outputs": [
    {
     "name": "stdout",
     "output_type": "stream",
     "text": [
      "[1, 4, 9, 16, 25, 36, 49, 64, 81, 100]\n",
      "[1, 4, 9, 16, 25, 36, 49, 64, 81, 100]\n"
     ]
    }
   ],
   "source": [
    "# Example 1.0\n",
    "\n",
    "# Normal Method\n",
    "squares=[]\n",
    "for i in range(1,11):\n",
    "    squares.append(i**2)\n",
    "print(squares)\n",
    "\n",
    "#List comprehension\n",
    "squares1=[i**2 for i in range(1,11)]\n",
    "print(squares1)"
   ]
  },
  {
   "cell_type": "code",
   "execution_count": 7,
   "id": "8155d6a1",
   "metadata": {},
   "outputs": [
    {
     "name": "stdout",
     "output_type": "stream",
     "text": [
      "[3, 6, 9, 12, 15, 18, 21, 24, 27, 30, 33, 36, 39]\n",
      "[3, 6, 9, 12, 15, 18, 21, 24, 27, 30, 33, 36, 39]\n"
     ]
    }
   ],
   "source": [
    "# Example 2.0\n",
    "\n",
    "# Normal method\n",
    "X=[]\n",
    "for i in range(1,40):\n",
    "    if i%3==0:\n",
    "        X.append(i)\n",
    "print(X)\n",
    "        \n",
    "# List comprehension \n",
    "X=[i for i in X if i%3==0]\n",
    "print(X)"
   ]
  },
  {
   "cell_type": "code",
   "execution_count": 8,
   "id": "20a250b7",
   "metadata": {},
   "outputs": [
    {
     "name": "stdout",
     "output_type": "stream",
     "text": [
      "[('Spirited Away', 2001), ('The aviator', 2004)]\n",
      "['Spirited Away', 'The aviator']\n"
     ]
    }
   ],
   "source": [
    "# Example 3.0\n",
    "#to print movies that released before year 2000 \n",
    "\n",
    "Movies=[('citizen kane',1941),('Spirited Away',2001),('The aviator',2004),('Gattaca',1997)]\n",
    "Movies_after_2000=[(title,year)for (title,year) in Movies if year>2000]\n",
    "Movies_names=[title for (title,year) in Movies if year>2000]\n",
    "print(Movies_after_2000)\n",
    "print(Movies_names)"
   ]
  },
  {
   "cell_type": "code",
   "execution_count": 9,
   "id": "5942047c",
   "metadata": {},
   "outputs": [
    {
     "name": "stdout",
     "output_type": "stream",
     "text": [
      "[4, 20, 16, 24, 32, 36, 28]\n"
     ]
    }
   ],
   "source": [
    "# Example 4.0\n",
    "#Scalar Multiplication\n",
    "V=[1,5,4,6,8,9,7]\n",
    "S=[i*4 for i in V ]\n",
    "print(S)"
   ]
  },
  {
   "cell_type": "code",
   "execution_count": 10,
   "id": "b2eb74fb",
   "metadata": {},
   "outputs": [
    {
     "name": "stdout",
     "output_type": "stream",
     "text": [
      "[(1, 3), (1, 4), (2, 3), (2, 4)]\n"
     ]
    }
   ],
   "source": [
    "# Example 5.0\n",
    "#cartesian product(ex (a,b)*(c,d)=(a,c),(a,d),(b,c),(b,d))\n",
    "\n",
    "A=[1,2]\n",
    "B=[3,4]\n",
    "cartesian_product=[(a,b) for a in A for b in B]\n",
    "print(cartesian_product)"
   ]
  },
  {
   "cell_type": "markdown",
   "id": "1c084dd8",
   "metadata": {},
   "source": [
    "### Some more examples"
   ]
  },
  {
   "cell_type": "code",
   "execution_count": 11,
   "id": "d219dab9",
   "metadata": {},
   "outputs": [
    {
     "name": "stdout",
     "output_type": "stream",
     "text": [
      "[1, 5, 2, 6, 3, 4, 8, 9]\n"
     ]
    }
   ],
   "source": [
    "#PROBLEM 1.0\n",
    "    #How to remove duplicates from a list \n",
    "\n",
    "L=[1,5,2,6,3,5,2,1,4,8,5,3,1,2,5,4,5,9,4,5]\n",
    "unique=[]   #an empty list that will store unique values from L\n",
    "for number in L:            #Iteration through the list\n",
    "    if number not in unique:\n",
    "        unique.append(number)\n",
    "print(unique)"
   ]
  },
  {
   "cell_type": "code",
   "execution_count": 12,
   "id": "cc54cec4",
   "metadata": {},
   "outputs": [
    {
     "name": "stdout",
     "output_type": "stream",
     "text": [
      "['Happy', 'Sad', 'Gloomy', 'Loved', 'Blessed']\n",
      "Happy and Sad and Gloomy and Loved and Blessed\n",
      "Happy,Sad,Gloomy,Loved,Blessed\n",
      "KRISHNENDU\n"
     ]
    }
   ],
   "source": [
    "#Problem 2.0\n",
    "Mood='Happy,Sad,Gloomy,Loved,Blessed'\n",
    "List=Mood.split(',') #Making list from comma seperated string\n",
    "print(List)\n",
    "String=' and '.join(List) #Making a whole string with and as joiner\n",
    "csv=','.join(List)        # comma joiner\n",
    "print(String)\n",
    "print(csv)\n",
    "X=['K','R','I','S','H','N','E','N','D','U']\n",
    "print(''.join(X))"
   ]
  },
  {
   "cell_type": "code",
   "execution_count": 14,
   "id": "198d2ea8",
   "metadata": {},
   "outputs": [
    {
     "name": "stdout",
     "output_type": "stream",
     "text": [
      ">hello world\n",
      "Enter DOB >20/08/1997\n",
      "['hello', 'world'] ['20', '08', '1997']\n",
      "['hello', 'world', '20', '08', '1997']\n"
     ]
    }
   ],
   "source": [
    "#Problem 3.0\n",
    "  #creating list from user inputs\n",
    "  \n",
    "message1=input('>')\n",
    "message2=input('Enter DOB >')\n",
    "words1=message1.split(\" \") #Space is used as splitter \n",
    "words2=message2.split(\"/\") #/ is the splitter\n",
    "print(words1,words2)       #2 differetnt list is created\n",
    "print(words1+words2)       #List concatination\n"
   ]
  },
  {
   "cell_type": "code",
   "execution_count": 15,
   "id": "d4fa0c44",
   "metadata": {},
   "outputs": [
    {
     "name": "stdout",
     "output_type": "stream",
     "text": [
      "['a', 'b', 'k']\n",
      "[1, 2, 3]\n"
     ]
    }
   ],
   "source": [
    "#Problem 4.0 : to get variable unique identification number or string\n",
    "\n",
    "X=[['a','b','k'],[1,2,3]]\n",
    "a,b=X\n",
    "print(a)\n",
    "print(b)"
   ]
  },
  {
   "cell_type": "code",
   "execution_count": 16,
   "id": "a6f2ecd6",
   "metadata": {},
   "outputs": [
    {
     "name": "stdout",
     "output_type": "stream",
     "text": [
      "Counter({1: 5, 2: 5, 4: 4, 5: 3, 6: 3, 3: 2})\n",
      "Counter({'is': 2, 'Python': 1, 'very': 1, 'popular': 1, 'because': 1, 'it': 1, 'user': 1, 'fiendly': 1, 'and': 1, 'easy': 1, 'to': 1, 'learn': 1})\n"
     ]
    }
   ],
   "source": [
    "#Problem 5.0\n",
    "    #counting the number of elements in a list within a specified range\n",
    "from collections import Counter\n",
    "Y=[1,2,1,3,2,5,6,4,2,2,1,3,2,1,5,1,5,4,6,4,6,4,]\n",
    "print(Counter(Y))\n",
    "    #counting occurance of a word in a sentence\n",
    "X='Python is very popular because it is user fiendly and easy to learn'\n",
    "List=X.split(' ')\n",
    "print(Counter(List))"
   ]
  },
  {
   "cell_type": "code",
   "execution_count": 17,
   "id": "92ed197b",
   "metadata": {},
   "outputs": [
    {
     "name": "stdout",
     "output_type": "stream",
     "text": [
      "The terms at the even positions are:\n",
      "a\n",
      "k\n",
      "The terms at the odd positions are :\n",
      "b\n",
      "l\n"
     ]
    }
   ],
   "source": [
    "#Problem 6.0\n",
    "  #seperating the even and odd index numbers of the list\n",
    "X=['a','b','k','l']\n",
    "print(\"The terms at the even positions are:\")\n",
    "for i in X:\n",
    "    if X.index(i)%2==0:\n",
    "            print(i)\n",
    "print(\"The terms at the odd positions are :\")\n",
    "for i in X:\n",
    "    if X.index(i)%2 !=0:\n",
    "        print(i)"
   ]
  },
  {
   "cell_type": "code",
   "execution_count": 18,
   "id": "58184a4b",
   "metadata": {},
   "outputs": [
    {
     "name": "stdout",
     "output_type": "stream",
     "text": [
      "length of sing is :4\n",
      "length of dance is :5\n",
      "length of gallop is :6\n"
     ]
    }
   ],
   "source": [
    "#Problem 7.0\n",
    " #Printing length of each element inside a list\n",
    "X=['sing','dance','gallop']\n",
    "for i in X :\n",
    "    print(\"length of \"+str(i)+' is :'+str(len(i)))"
   ]
  },
  {
   "cell_type": "code",
   "execution_count": 19,
   "id": "ab48c269",
   "metadata": {},
   "outputs": [
    {
     "name": "stdout",
     "output_type": "stream",
     "text": [
      "[40, 50, 60, 10, 20, 30]\n"
     ]
    }
   ],
   "source": [
    "#Problem 8.0\n",
    "# #Write a Python program to extend a list without append.\n",
    "# Sample data: [10, 20, 30]\n",
    "# [40, 50, 60]\n",
    "# Expected output : [40, 50, 60, 10, 20, 30]\n",
    "\n",
    "X=[10,20,30]\n",
    "Y=[60,50,40]\n",
    "for i in Y:\n",
    "    X.insert(0,i)\n",
    "print(X)"
   ]
  },
  {
   "cell_type": "code",
   "execution_count": 20,
   "id": "0252716d",
   "metadata": {},
   "outputs": [
    {
     "name": "stdout",
     "output_type": "stream",
     "text": [
      "[8, 12, -24, 20, -36, 16]\n"
     ]
    }
   ],
   "source": [
    "#scalar multiplication \n",
    "X=[2,3,-6,5,-9,4]\n",
    "Y=[4*i for i in X]\n",
    "print(Y)"
   ]
  },
  {
   "cell_type": "code",
   "execution_count": 21,
   "id": "965a4f3a",
   "metadata": {},
   "outputs": [
    {
     "name": "stdout",
     "output_type": "stream",
     "text": [
      "['brown', 'brown', 'black']\n",
      "['brown', 'brown', 'black']\n"
     ]
    }
   ],
   "source": [
    "#Listing out those colors that starts with B\n",
    "colors=['brown','white','red','pink','brown','green','black']\n",
    "colors_with_B=[]\n",
    "for name in colors:\n",
    "    if name.startswith('b'):\n",
    "        colors_with_B.append(name)\n",
    "print(colors_with_B)\n",
    "#OR \n",
    "colors_with_B= [name for name in colors if name.startswith('b')]\n",
    "print(colors_with_B)"
   ]
  },
  {
   "cell_type": "code",
   "execution_count": 22,
   "id": "a3f093d0",
   "metadata": {},
   "outputs": [
    {
     "name": "stdout",
     "output_type": "stream",
     "text": [
      "['Devdas', 'Kites']\n"
     ]
    }
   ],
   "source": [
    "#Listing out movies that released before 2018\n",
    "movies=[('Devdas',2002),('Kites',2010),('Bala',2019)]\n",
    "movies_before_2k19=[movie for (movie,year) in movies if year<2019]\n",
    "print(movies_before_2k19)"
   ]
  },
  {
   "cell_type": "code",
   "execution_count": 23,
   "id": "ab9536b8",
   "metadata": {},
   "outputs": [
    {
     "name": "stdout",
     "output_type": "stream",
     "text": [
      "[[1, 2], [1, 4], [1, 6], [1, 8], [3, 2], [3, 4], [3, 6], [3, 8], [5, 2], [5, 4], [5, 6], [5, 8], [7, 2], [7, 4], [7, 6], [7, 8]]\n"
     ]
    }
   ],
   "source": [
    "#certesian product \n",
    "A=[1,3,5,7]\n",
    "B=[2,4,6,8]\n",
    "certesian_prod=[[a,b] for a in A for b in B]\n",
    "print(certesian_prod)"
   ]
  },
  {
   "cell_type": "code",
   "execution_count": 24,
   "id": "411b7ab2",
   "metadata": {},
   "outputs": [
    {
     "name": "stdout",
     "output_type": "stream",
     "text": [
      "[('B', 'B', 'B'), ('B', 'B', 'O'), ('B', 'B', 'Y'), ('B', 'O', 'B'), ('B', 'O', 'O'), ('B', 'O', 'Y'), ('B', 'Y', 'B'), ('B', 'Y', 'O'), ('B', 'Y', 'Y'), ('O', 'B', 'B'), ('O', 'B', 'O'), ('O', 'B', 'Y'), ('O', 'O', 'B'), ('O', 'O', 'O'), ('O', 'O', 'Y'), ('O', 'Y', 'B'), ('O', 'Y', 'O'), ('O', 'Y', 'Y'), ('Y', 'B', 'B'), ('Y', 'B', 'O'), ('Y', 'B', 'Y'), ('Y', 'O', 'B'), ('Y', 'O', 'O'), ('Y', 'O', 'Y'), ('Y', 'Y', 'B'), ('Y', 'Y', 'O'), ('Y', 'Y', 'Y')]\n",
      "[('B', 'B'), ('B', 'O'), ('B', 'Y'), ('O', 'B'), ('O', 'O'), ('O', 'Y'), ('Y', 'B'), ('Y', 'O'), ('Y', 'Y')]\n"
     ]
    }
   ],
   "source": [
    "#Permutation \n",
    "X='BOY'\n",
    "List=list(X)\n",
    "permutation1=[(i,j,k) for i in List for j in List for k in List]\n",
    "permutation2=[(i,j) for i in List for j in List]\n",
    "\n",
    "print(permutation1); print(permutation2)"
   ]
  },
  {
   "cell_type": "markdown",
   "id": "2e172c41",
   "metadata": {},
   "source": [
    "## 3. Tuple"
   ]
  },
  {
   "cell_type": "code",
   "execution_count": 38,
   "id": "b848daa1",
   "metadata": {},
   "outputs": [
    {
     "name": "stdout",
     "output_type": "stream",
     "text": [
      "<class 'tuple'> <class 'str'>\n",
      "('physics', 'chemistry', 1997, 2000, 1997) () ('Maths',) Maths\n",
      "5 0 1\n",
      "physics ('chemistry', 1997, 2000, 1997) 1997 ('chemistry', 1997, 2000) ()\n",
      "('physics', 'chemistry', 1997, 2000, 1997, 'Maths')\n",
      "False\n",
      "100 12\n",
      "2\n",
      "2\n",
      "('Hi', 'Bro', 5, 45, 4, 18, 23)\n",
      "['physics', 'chemistry', 1997, 2000, 1997]\n",
      "<class 'tuple'>\n",
      "('Mango', ['Bananna', 'pappaya'])\n",
      "Bananna Mango\n",
      "('Mango', ['Bananna', 'Guava'])\n",
      "3 4 5\n",
      "6 8 10\n",
      "55\n",
      "55\n"
     ]
    }
   ],
   "source": [
    "#TUPLE\n",
    "   #Sequence of immutable python objects\n",
    "   \n",
    "T=('physics', 'chemistry', 1997, 2000,1997)\n",
    "T0=()                        #An empty tuple\n",
    "T1=('Maths',) ; T2=('Maths') \n",
    "print(type(T1),type(T2))     #Note the difference    \n",
    "T4=(12,15,65,78,30,100)\n",
    "L=['Hi','Bro',5,45,4,18,23]\n",
    "print(T,T0,T1,T2)\n",
    "print(len(T),len(T0),len(T1))\n",
    "print(T[0],T[1:],T[-1],T[1:-1],T[-1:1])\n",
    "print(T+T1+T0)                  #concatination of Tuples\n",
    "print('2020' in T)\n",
    "print(max(T4),min(T4))\n",
    "print(T.index(1997))\n",
    "print(T.count(1997))\n",
    "print(tuple(L))    #converting list L into tuple\n",
    "print(list(T))    #converting tuple T into list\n",
    "del T1 #deleting single tuple element is not possible but deleting      the entire tuple is possible\n",
    "# print(T1)\n",
    "\n",
    "\n",
    "\n",
    "#List Inside Tuple\n",
    "T5=('Mango',['Bananna','pappaya'])\n",
    "print(type(T5))\n",
    "print(T5)               #Tuple containing string\n",
    "print(T5[1][0],T5[0])  #accessing list item inside of tuple\n",
    "T5[1][1]='Guava'       #modifying items of list inside tuple\n",
    "print(T5)             \n",
    "\n",
    "#Unpacking \n",
    "      #Available for both Tuples and lists\n",
    "coordinates_tuple=(3,4,5)\n",
    "coordinates_list=[6,8,10]\n",
    "\n",
    "x,y,z=coordinates_tuple\n",
    "a,b,c=coordinates_list\n",
    "print(x,y,z);print(a,b,c)\n",
    "\n",
    "\n",
    "#Namedtuple\n",
    "\n",
    "from collections import namedtuple\n",
    "\n",
    "Color=namedtuple('Color',['red','green','blue']) #Syntax for namedtuple\n",
    "color=Color(55,155,255)      # or color=Color(red=55,green=155,blue=255)\n",
    "\n",
    "print (color[0])\n",
    "print (color.red)"
   ]
  },
  {
   "cell_type": "markdown",
   "id": "87dabd42",
   "metadata": {},
   "source": [
    "## 4.Set"
   ]
  },
  {
   "cell_type": "code",
   "execution_count": 37,
   "id": "d607bcaa",
   "metadata": {},
   "outputs": [
    {
     "name": "stdout",
     "output_type": "stream",
     "text": [
      "{500, 'Apple', 'Bananna'}\n",
      "{'Guava', 500, 'Mango', 'Apple', 'Bananna'}\n",
      "set()\n",
      "{500, 'Apple', 'Bananna'}\n",
      "{'Mango', 'Guava'}\n",
      "{'Mango', 'Bananna', 'Guava', 500, 'Apple'}\n",
      "{'Mango', 'Bananna', 'Guava', 500, 'Apple'}\n",
      "500\n",
      "None\n",
      "[1, 2, 3, 4, 3, 5, 2, 2, 1, 3, 5, 6, 8, 9]\n",
      "{1, 2, 3, 4, 5, 6, 8, 9}\n",
      "[1, 2, 3, 4, 5, 6, 8, 9]\n",
      "[2, 4, 5]\n",
      "[1, 3, 6]\n",
      "I\n",
      "False\n",
      "True\n"
     ]
    }
   ],
   "source": [
    "s1={'Apple', 'Bananna','Mango'}\n",
    "s2={'Mango','Guava'}\n",
    "s1.add('Apple')\n",
    "s1.add(500)\n",
    "s1.discard('Mango')\n",
    "#s1.remove('Mango')\n",
    "print(s1)\n",
    "print(s1.union(s2))\n",
    "print(s1.intersection(s2))\n",
    "print(s1.difference(s2))\n",
    "print(s2.difference(s1))\n",
    "print(s2.symmetric_difference(s1))\n",
    "print(s1^s2)             #For symmetrical difference between sets\n",
    "print(s1.pop())          #Any abrupt element may pop out\n",
    "print(s2.update(s1))     # s2 changes to s1\n",
    "\n",
    "\n",
    "\n",
    "#Problem 1.0(Removing duplicate elements from a list)\n",
    "List=[1,2,3,4,3,5,2,2,1,3,5,6,8,9]\n",
    "Set=set(List)        #converting list into set to remove duplicates\n",
    "print(List)          #Prints all the values along with duplicates\n",
    "print(Set)           #Set doensot contain duplicates in it\n",
    "List=list(Set)       #converting set into list\n",
    "print(List)          #note output and notice previous n present list\n",
    "\n",
    "# to get the difference between the two lists and also get unique values from a list\n",
    "\n",
    "X=[1,2,3,6,4,5]\n",
    "Y=[1,3,6]\n",
    "x=set(X)\n",
    "y=set(Y)\n",
    "print(list(x.difference(y)))   \n",
    "print(list(x.intersection(y)))\n",
    "\n",
    "\n",
    "#Write a Python program to select an item randomly from a list.\n",
    "\n",
    "X=['K','R','I','S','H','N','E','N','D','U']\n",
    "Y=set(X)\n",
    "print(Y.pop())\n",
    "\n",
    "#checking subset and superset\n",
    "setx = set([\"apple\", \"mango\"])\n",
    "sety = set([\"mango\"])\n",
    "issubset = setx <= sety            #set y is the subset of set x\n",
    "print(issubset)                    # Same as print(setx.issubset(sety))\n",
    "\n",
    "issuperset = setx >= sety         #set x is the superset of set y\n",
    "print(issuperset)                 # Same as print(setx.issuperset(sety))"
   ]
  },
  {
   "cell_type": "markdown",
   "id": "a30e8320",
   "metadata": {},
   "source": [
    "## 5. Dictionary"
   ]
  },
  {
   "cell_type": "code",
   "execution_count": 39,
   "id": "bac7dc26",
   "metadata": {},
   "outputs": [
    {
     "name": "stdout",
     "output_type": "stream",
     "text": [
      "{'K1': 'V1', 'K2': 'V2', 'K3': 'V3'}\n",
      "3\n",
      "{'K1': 'V1', 'K2': 'V2', 'K3': 'V3'}\n",
      "<class 'dict'>\n",
      "V1\n",
      "{'K1': 'V1', 'K2': 'V2', 'K3': 'V3.1', 'K6': 'V6'} {'K4': 'V4'}\n",
      "dict_keys(['K1', 'K2', 'K3', 'K6'])\n",
      "dict_values(['V1', 'V2', 'V3.1', 'V6'])\n",
      "{'K1': 'V1', 'K2': 'V2', 'K3': 'V3.1', 'K6': 'V6'}\n",
      "dict_items([('K1', 'V1'), ('K2', 'V2'), ('K3', 'V3.1'), ('K6', 'V6')])\n",
      "V2\n",
      "{'K1': 'V1', 'K2': 'V2', 'K3': 'V3.1', 'K6': 'V6', 'K4': 'V4'}\n",
      "<class 'dict'>\n",
      "{'subset1': ['a', 'b', 'c'], 'subset2': [1, 2, 3]}\n",
      "a 3\n",
      "{'subset1': ['a', 'b', 'c'], 'subset2': [1, 4, 3]}\n",
      "k1 k2\n",
      "None\n",
      "Huh? ['a', 'b', 'c']\n"
     ]
    }
   ],
   "source": [
    "#Keying in Dictionary\n",
    "\n",
    "#Keying in Dictionary\n",
    "\n",
    "S1={'K1': 'V1', 'K2': 'V2', 'K3':'V3'}\n",
    "S2={'K4':'V4','K5':'V5'}\n",
    "print(S1)\n",
    "print(len(S1))\n",
    "print(str(S1))\n",
    "print(type(S1))\n",
    "print(S1['K1'])       #Slicing of dictionary\n",
    "S1['K3']='V3.1'     #Updating previous key value \n",
    "S1['K6']='V6'   #Adding new key and corresponding value\n",
    "del S2['K5']\n",
    "\n",
    "print(S1,S2)\n",
    "#print(S1+S2) :This type of concatination not possible\n",
    "print(S1.keys())\n",
    "print(S1.values())\n",
    "print(S1.copy())            # to copy the dict. S1\n",
    "print(S1.items())          #shows items in form of a touple\n",
    "print(S1.get('K2'))        #Similar of doing print(S1['SD'])\n",
    "S1.update(S2);print(S1)   #Updating/merging 2 dictionaries into 1\n",
    "#print(S1.clear())         #clears all the elements in the dictionary\n",
    "#del S1                    #Deletes the whole dictionary\n",
    "# #print(S1['KD'])  \n",
    "\n",
    "\n",
    "\n",
    "#List inside Dictionary\n",
    "Set={'subset1':['a','b','c'],'subset2':[1,2,3]}\n",
    "print(type(Set))\n",
    "print(Set)                        \n",
    "print(Set['subset1'][0],Set['subset2'][2]) #accessing list data\n",
    "Set['subset2'][1]=4              #Modifying list data inside tuple\n",
    "print(Set)\n",
    "\n",
    "#Python program to access dictionary keys element by index\n",
    "X={'k1':1,'k2':2}\n",
    "Y=list(X)\n",
    "print(Y[0],Y[1])\n",
    "\n",
    "\n",
    "# One of the differences between the two notations is what they do if you supply a key that doesn't exist.\n",
    "# If you reference a non-existent key, get() returns None, whereas the square brackets notation will raise a KeyError.\n",
    "# But the get() function also allows you to provide a default value in the event the key doesn't exist.\n",
    "\n",
    "Set={'subset1':['a','b','c'],'subset2':[1,2,3]}\n",
    "print(Set.get(\"subset3\"))          #subset3 is a Missing key \n",
    "print(\n",
    "    Set.get(\"subset3\", \"Huh?\"),     #get() fn with a default value\n",
    "    Set.get('subset1')) \n"
   ]
  },
  {
   "cell_type": "code",
   "execution_count": null,
   "id": "1aeee35a",
   "metadata": {},
   "outputs": [],
   "source": []
  }
 ],
 "metadata": {
  "kernelspec": {
   "display_name": "Python 3 (ipykernel)",
   "language": "python",
   "name": "python3"
  },
  "language_info": {
   "codemirror_mode": {
    "name": "ipython",
    "version": 3
   },
   "file_extension": ".py",
   "mimetype": "text/x-python",
   "name": "python",
   "nbconvert_exporter": "python",
   "pygments_lexer": "ipython3",
   "version": "3.9.13"
  }
 },
 "nbformat": 4,
 "nbformat_minor": 5
}
