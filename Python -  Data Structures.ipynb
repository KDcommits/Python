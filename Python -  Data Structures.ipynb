{
 "cells": [
  {
   "cell_type": "markdown",
   "id": "e8b892e4",
   "metadata": {},
   "source": [
    "<h2 align=\"center\"> Python - Data Structures </h2>"
   ]
  },
  {
   "cell_type": "markdown",
   "id": "a9c097c6",
   "metadata": {},
   "source": [
    "## String"
   ]
  },
  {
   "cell_type": "code",
   "execution_count": 1,
   "id": "4a9d1004",
   "metadata": {},
   "outputs": [
    {
     "name": "stdout",
     "output_type": "stream",
     "text": [
      "H\n",
      "7\n",
      "ello brother_007\n",
      "Hello brother_00\n",
      "Hel\n",
      "ello brother_00\n",
      "17\n",
      "Hello brother_007\n",
      "Hello brother_007\n",
      "hello brother_007\n",
      "hello brother_007\n",
      "HELLO BROTHER_007\n",
      "Hello Brother_007\n",
      "Hello brother_007\n",
      "hELLO BROTHER_007\n",
      "____Hello brother_007____\n",
      "........Hello brother_007\n",
      "b'Hello brother_007'\n",
      "4\n",
      "4\n",
      "9\n",
      "2 1\n",
      "Hey brother_007\n",
      "False True\n",
      "False False\n",
      "['Hello', 'brother_007']\n",
      "['Hello brother', '007']\n",
      "['Hello brother_007']\n",
      "False\n",
      "False\n",
      "False\n",
      "False\n",
      "False\n",
      "False\n",
      "False\n",
      "False\n"
     ]
    }
   ],
   "source": [
    "x=\"Hello brother_007\"\n",
    "print(x[0])                   # Prints First letter of the string\n",
    "print(x[-1])                  # Prints last letter of the string\n",
    "print(x[1:])                  # print everything excluding first index\n",
    "print(x[:-1])                 # Print everything except last index\n",
    "print(x[0:3])                 # Starts from 0th index but doesn't include the limiting range\n",
    "print(x[1:-1])                # prints all except the first and last index\n",
    "print(len(x))                 # len() function to determine the length of the string\n",
    "print(x)\n",
    "print(x.strip())\n",
    "print(x.lower())              # Makes all the letters smallcase\n",
    "print(x.casefold())           #Same as str.lower()\n",
    "print(x.upper())              # Makes all the letters uppercase\n",
    "print(x.title())              # Makes the first letter of each word capital\n",
    "print(x.capitalize())         # Makes the first letter uppercase only\n",
    "print(x.swapcase())           # Makes Uppercase letter Smallcase and vice-versa\n",
    "print(x.center(25,'_'))       #\n",
    "print(x.rjust(25,'.'))\n",
    "#print(x.join())\n",
    "print(x.encode())             # Puts the whole string inside quotation\n",
    "print(x.index('o'))           # Prints the index of the letter 'o'\n",
    "print(x.find('o'))            # same as str.index()\n",
    "print(x.rfind('t'))\n",
    "print(x.count('o'),x.count('t'))\n",
    "print(x.replace(\"Hello\",'Hey'))\n",
    "print('K' in x, 'K' not in x)\n",
    "print(x.endswith('r'),x.startswith('l'))\n",
    "print(x.split())               # Splits the string into list elements whenever there is a space by default\n",
    "print(x.split('_'))            # Splits the string into list elements whenever there is a '_'\n",
    "print(x.splitlines())          # makes the whole string a list element\n",
    "\n",
    "\n",
    "print(x.isalnum())               # Returns true if string has at least 1 character and all characters are alphanumeric and false otherwise.\n",
    "print(x.isalpha())               # Returns true if string has at least 1 character and all characters are alphabetic and false otherwise.\n",
    "print(x.isdigit())               # Returns true if the string contains only digits and false otherwise\n",
    "print(x.islower())               # Returns true if string has at least 1 cased character and all cased characters are in lowercase and false otherwise.\n",
    "print(x.isnumeric())             # Returns true if a unicode string contains only numeric characters and false otherwise\n",
    "print(x.isspace())               # Returns true if string contains only whitespace characters and false otherwise.\n",
    "print(x.istitle())               # Returns true if string is properly \"titlecased\" and false otherwise\n",
    "print(x.isupper())               # Returns true if string has at least one cased character and all cased characters are in uppercase and false otherwise.\n"
   ]
  },
  {
   "cell_type": "markdown",
   "id": "66b2e72c",
   "metadata": {},
   "source": [
    "## List"
   ]
  },
  {
   "cell_type": "markdown",
   "id": "60c97a55",
   "metadata": {},
   "source": [
    "### Basic Operations"
   ]
  },
  {
   "cell_type": "code",
   "execution_count": 3,
   "id": "37d5d38e",
   "metadata": {},
   "outputs": [
    {
     "name": "stdout",
     "output_type": "stream",
     "text": [
      "<class 'list'> <class 'list'> <class 'list'>\n",
      "4 5 4\n",
      "['physics', 'chemistry', 1997, 2000] [11, 22, 53, 84, 75] ['ax', 'xu', 'ikkt', 'lfdjd']\n",
      "['physics', 'chemistry', 1997, 2000, 11, 22, 53, 84, 75, 'ax', 'xu', 'ikkt', 'lfdjd']\n",
      "1997 11 lfdjd\n",
      "[11, 53, 75] ['lfdjd', 'xu']\n",
      "['physics', 'chemistry', 1996, 2000]\n",
      "[11, 22, 53, 84]\n",
      "False\n",
      "84 ax\n",
      "[11, 22, 53, 84]\n",
      "['ax', 'ikkt', 'lfdjd', 'xu']\n",
      "['lfdjd', 'ikkt', 'ax', 'xu']\n",
      "[84, 53, 22, 11]\n",
      "['xu', 'ax', 'ikkt', 'lfdjd']\n",
      "['physics', 'chemistry', 1996, 2000, 2020]\n",
      "['Maths', 'physics', 'chemistry', 1996, 2000, 2020]\n",
      "['Maths', 'physics', 'chemistry', 1996, 2000, 2020, 'Maths', 'physics', 'chemistry', 1996, 2000, 2020]\n",
      "['Maths', 'chemistry', 1996, 2000, 2020, 'Maths', 'physics', 'chemistry', 1996, 2000, 2020]\n",
      "2 0\n",
      "['Maths', 'chemistry', 1996, 2000, 2020, 'Maths', 'physics', 'chemistry', 1996, 2000]\n",
      "0 4\n",
      "['H', 'e', 'l', 'l', 'o', ' ', 'P', 'y', 't', 'h', 'o', 'n']\n"
     ]
    }
   ],
   "source": [
    "L1 = ['physics', 'chemistry', 1997, 2000]\n",
    "L2 = [11, 22, 53, 84, 75 ]\n",
    "L3 = [\"ax\", \"xu\", \"ikkt\", \"lfdjd\"]\n",
    "print(type(L1),type(L2),type(L3))\n",
    "print(len(L1),len(L2),len(L3))\n",
    "print(L1,L2,L3)                     \n",
    "print(L1+L2+L3)                    # List concatination\n",
    "print(L1[2],L2[0],L3[3])\n",
    "print(L2[0:5:2],L3[5:0:-2])\n",
    "L1[2]=1996 ;print(L1)              #Modifying an element inside a list\n",
    "del L2[4] ; print(L2)              #deleting elemnt of a list\n",
    "print(\"c\" in L3)      #to check if an element is in a list or not\n",
    "print(max(L2),min(L3))\n",
    "          #print(max(L1))  not possible as both numeric and char. type datas are present\n",
    "L2.sort();print(L2)         #Ascending order sorting for numeric\n",
    "L3.sort();print(L3)         #Sorting alphabetically(defaut)forchar\n",
    "L3.sort(key=len,reverse=True);print(L3)  #Alphabetical+length ascending\n",
    "L2.reverse(),L3.reverse();print(L2) ; print(L3)\n",
    "L1.append(2020); print(L1)          #Adds element @ the end of list\n",
    "L1.insert(0,'Maths'); print(L1) \n",
    "L1.extend(L1);print(L1)            #extending=list concatination\n",
    "L1.remove(\"physics\");print(L1)     #among 2 physics 1 is removed\n",
    "print(L1.count(2020),L1.count(0))  #to detrmine how many time an element occurs in a list \n",
    "L1.pop() ;print(L1)               #Removes last item from the list\n",
    "print(L1.index('Maths'),\n",
    "                 L1.index(2020)) #finding index of element\n",
    "                 \n",
    "Str=\"Hello Python\"\n",
    "print(list(Str))   #converting all the letters(including space) of                the string into a list\n",
    "                "
   ]
  },
  {
   "cell_type": "markdown",
   "id": "e8333c67",
   "metadata": {},
   "source": [
    "### Sort & Sorted"
   ]
  },
  {
   "cell_type": "code",
   "execution_count": 4,
   "id": "f9a33b4e",
   "metadata": {},
   "outputs": [
    {
     "name": "stdout",
     "output_type": "stream",
     "text": [
      "['bull', 'dog', 'donkey', 'horse', 'monkey', 'pig']\n",
      "['pig', 'monkey', 'horse', 'donkey', 'dog', 'bull']\n",
      "[-35, -9, 0, 1, 5, 6, 12, 68]\n",
      "[68, 12, 6, 5, 1, 0, -9, -35]\n",
      "[('Amazon', 1995.9, 'Bezos', 750000), ('Google', 1162.92, 'Pichai', 103549), ('Facebook', 163.3, 'Mark', 44942), ('Microsoft', 115.65, 'Bill', 148465)]\n",
      "[('Amazon', 1995.9, 'Bezos', 750000), ('Microsoft', 115.65, 'Bill', 148465), ('Google', 1162.92, 'Pichai', 103549), ('Facebook', 163.3, 'Mark', 44942)]\n",
      "['bull', 'dog', 'donkey', 'horse', 'monkey', 'pig']\n",
      "['K', 'd', 'e', 'h', 'i', 'n', 'n', 'r', 's', 'u']\n",
      "[1, 3, 6, 12, 30, 32, 65, 85, 95, 578]\n"
     ]
    }
   ],
   "source": [
    "#Example1.0\n",
    "animals=['dog','bull','monkey','donkey','pig','horse']\n",
    "animals.sort();print(animals)             #Alphabetical sorting\n",
    "animals.sort(reverse=True);print(animals) #Reverse  sorting\n",
    "nums=[1,5,12,68,0,-9,6,-35]\n",
    "nums.sort();print(nums)                 #Ascending sorting(default)\n",
    "nums.sort(reverse=True);print(nums)     #Descending sorting\n",
    "\n",
    "\n",
    "#Example 2.0\n",
    "companies=[('Google',1162.92,'Pichai',103549),\n",
    "           ('Facebook',163.3,'Mark',44942),\n",
    "           ('Amazon',1995.9,'Bezos',750000),\n",
    "           ('Microsoft',115.65,'Bill',148465)]\n",
    "           \n",
    "net_worth= lambda companies:companies[1]\n",
    "companies.sort(key=net_worth,reverse=True)\n",
    "print(companies)\n",
    "employees= lambda companies:companies[3]\n",
    "companies.sort(key=employees,reverse=True)\n",
    "print(companies)\n",
    "\n",
    "#Example 3.0\n",
    "   #Using Sorted fun\n",
    "animals=['dog','bull','monkey','donkey','pig','horse']\n",
    "print(sorted(animals))\n",
    "name='Krishnendu'\n",
    "print(sorted(name))     \n",
    "nums=(85,65,32,6,578,95,30,12,3,1)  \n",
    "print(sorted(nums)) #Use of sort() cannot sort elements of a tuple but use of the sorted() method can."
   ]
  },
  {
   "cell_type": "markdown",
   "id": "01c11e70",
   "metadata": {},
   "source": [
    "### List Comprehension"
   ]
  },
  {
   "cell_type": "code",
   "execution_count": 5,
   "id": "5d14092e",
   "metadata": {},
   "outputs": [
    {
     "name": "stdout",
     "output_type": "stream",
     "text": [
      "[1, 4, 9, 16, 25, 36, 49, 64, 81, 100]\n",
      "[1, 4, 9, 16, 25, 36, 49, 64, 81, 100]\n"
     ]
    }
   ],
   "source": [
    "# Example 1.0\n",
    "\n",
    "# Normal Method\n",
    "squares=[]\n",
    "for i in range(1,11):\n",
    "    squares.append(i**2)\n",
    "print(squares)\n",
    "\n",
    "#List comprehension\n",
    "squares1=[i**2 for i in range(1,11)]\n",
    "print(squares1)"
   ]
  },
  {
   "cell_type": "code",
   "execution_count": 7,
   "id": "00e8a64d",
   "metadata": {},
   "outputs": [
    {
     "name": "stdout",
     "output_type": "stream",
     "text": [
      "[3, 6, 9, 12, 15, 18, 21, 24, 27, 30, 33, 36, 39]\n",
      "[3, 6, 9, 12, 15, 18, 21, 24, 27, 30, 33, 36, 39]\n"
     ]
    }
   ],
   "source": [
    "# Example 2.0\n",
    "\n",
    "# Normal method\n",
    "X=[]\n",
    "for i in range(1,40):\n",
    "    if i%3==0:\n",
    "        X.append(i)\n",
    "print(X)\n",
    "        \n",
    "# List comprehension \n",
    "X=[i for i in X if i%3==0]\n",
    "print(X)"
   ]
  },
  {
   "cell_type": "code",
   "execution_count": 8,
   "id": "84f35f13",
   "metadata": {},
   "outputs": [
    {
     "name": "stdout",
     "output_type": "stream",
     "text": [
      "[('Spirited Away', 2001), ('The aviator', 2004)]\n",
      "['Spirited Away', 'The aviator']\n"
     ]
    }
   ],
   "source": [
    "# Example 3.0\n",
    "#to print movies that released before year 2000 \n",
    "\n",
    "Movies=[('citizen kane',1941),('Spirited Away',2001),('The aviator',2004),('Gattaca',1997)]\n",
    "Movies_after_2000=[(title,year)for (title,year) in Movies if year>2000]\n",
    "Movies_names=[title for (title,year) in Movies if year>2000]\n",
    "print(Movies_after_2000)\n",
    "print(Movies_names)"
   ]
  },
  {
   "cell_type": "code",
   "execution_count": 9,
   "id": "530a9416",
   "metadata": {},
   "outputs": [
    {
     "name": "stdout",
     "output_type": "stream",
     "text": [
      "[4, 20, 16, 24, 32, 36, 28]\n"
     ]
    }
   ],
   "source": [
    "# Example 4.0\n",
    "#Scalar Multiplication\n",
    "V=[1,5,4,6,8,9,7]\n",
    "S=[i*4 for i in V ]\n",
    "print(S)"
   ]
  },
  {
   "cell_type": "code",
   "execution_count": 10,
   "id": "0c55a7e5",
   "metadata": {},
   "outputs": [
    {
     "name": "stdout",
     "output_type": "stream",
     "text": [
      "[(1, 3), (1, 4), (2, 3), (2, 4)]\n"
     ]
    }
   ],
   "source": [
    "# Example 5.0\n",
    "#cartesian product(ex (a,b)*(c,d)=(a,c),(a,d),(b,c),(b,d))\n",
    "\n",
    "A=[1,2]\n",
    "B=[3,4]\n",
    "cartesian_product=[(a,b) for a in A for b in B]\n",
    "print(cartesian_product)"
   ]
  },
  {
   "cell_type": "markdown",
   "id": "c5b2dcbe",
   "metadata": {},
   "source": [
    "### Some more examples"
   ]
  },
  {
   "cell_type": "code",
   "execution_count": 11,
   "id": "bef4b2d6",
   "metadata": {},
   "outputs": [
    {
     "name": "stdout",
     "output_type": "stream",
     "text": [
      "[1, 5, 2, 6, 3, 4, 8, 9]\n"
     ]
    }
   ],
   "source": [
    "#PROBLEM 1.0\n",
    "    #How to remove duplicates from a list \n",
    "\n",
    "L=[1,5,2,6,3,5,2,1,4,8,5,3,1,2,5,4,5,9,4,5]\n",
    "unique=[]   #an empty list that will store unique values from L\n",
    "for number in L:            #Iteration through the list\n",
    "    if number not in unique:\n",
    "        unique.append(number)\n",
    "print(unique)"
   ]
  },
  {
   "cell_type": "code",
   "execution_count": 12,
   "id": "69e98e94",
   "metadata": {},
   "outputs": [
    {
     "name": "stdout",
     "output_type": "stream",
     "text": [
      "['Happy', 'Sad', 'Gloomy', 'Loved', 'Blessed']\n",
      "Happy and Sad and Gloomy and Loved and Blessed\n",
      "Happy,Sad,Gloomy,Loved,Blessed\n",
      "KRISHNENDU\n"
     ]
    }
   ],
   "source": [
    "#Problem 2.0\n",
    "Mood='Happy,Sad,Gloomy,Loved,Blessed'\n",
    "List=Mood.split(',') #Making list from comma seperated string\n",
    "print(List)\n",
    "String=' and '.join(List) #Making a whole string with and as joiner\n",
    "csv=','.join(List)        # comma joiner\n",
    "print(String)\n",
    "print(csv)\n",
    "X=['K','R','I','S','H','N','E','N','D','U']\n",
    "print(''.join(X))"
   ]
  },
  {
   "cell_type": "code",
   "execution_count": 14,
   "id": "833e5b2d",
   "metadata": {},
   "outputs": [
    {
     "name": "stdout",
     "output_type": "stream",
     "text": [
      ">hello world\n",
      "Enter DOB >20/08/1997\n",
      "['hello', 'world'] ['20', '08', '1997']\n",
      "['hello', 'world', '20', '08', '1997']\n"
     ]
    }
   ],
   "source": [
    "#Problem 3.0\n",
    "  #creating list from user inputs\n",
    "  \n",
    "message1=input('>')\n",
    "message2=input('Enter DOB >')\n",
    "words1=message1.split(\" \") #Space is used as splitter \n",
    "words2=message2.split(\"/\") #/ is the splitter\n",
    "print(words1,words2)       #2 differetnt list is created\n",
    "print(words1+words2)       #List concatination\n"
   ]
  },
  {
   "cell_type": "code",
   "execution_count": 15,
   "id": "99d069a2",
   "metadata": {},
   "outputs": [
    {
     "name": "stdout",
     "output_type": "stream",
     "text": [
      "['a', 'b', 'k']\n",
      "[1, 2, 3]\n"
     ]
    }
   ],
   "source": [
    "#Problem 4.0 : to get variable unique identification number or string\n",
    "\n",
    "X=[['a','b','k'],[1,2,3]]\n",
    "a,b=X\n",
    "print(a)\n",
    "print(b)"
   ]
  },
  {
   "cell_type": "code",
   "execution_count": 16,
   "id": "8b38b016",
   "metadata": {},
   "outputs": [
    {
     "name": "stdout",
     "output_type": "stream",
     "text": [
      "Counter({1: 5, 2: 5, 4: 4, 5: 3, 6: 3, 3: 2})\n",
      "Counter({'is': 2, 'Python': 1, 'very': 1, 'popular': 1, 'because': 1, 'it': 1, 'user': 1, 'fiendly': 1, 'and': 1, 'easy': 1, 'to': 1, 'learn': 1})\n"
     ]
    }
   ],
   "source": [
    "#Problem 5.0\n",
    "    #counting the number of elements in a list within a specified range\n",
    "from collections import Counter\n",
    "Y=[1,2,1,3,2,5,6,4,2,2,1,3,2,1,5,1,5,4,6,4,6,4,]\n",
    "print(Counter(Y))\n",
    "    #counting occurance of a word in a sentence\n",
    "X='Python is very popular because it is user fiendly and easy to learn'\n",
    "List=X.split(' ')\n",
    "print(Counter(List))"
   ]
  },
  {
   "cell_type": "code",
   "execution_count": 17,
   "id": "3bd28d4a",
   "metadata": {},
   "outputs": [
    {
     "name": "stdout",
     "output_type": "stream",
     "text": [
      "The terms at the even positions are:\n",
      "a\n",
      "k\n",
      "The terms at the odd positions are :\n",
      "b\n",
      "l\n"
     ]
    }
   ],
   "source": [
    "#Problem 6.0\n",
    "  #seperating the even and odd index numbers of the list\n",
    "X=['a','b','k','l']\n",
    "print(\"The terms at the even positions are:\")\n",
    "for i in X:\n",
    "    if X.index(i)%2==0:\n",
    "            print(i)\n",
    "print(\"The terms at the odd positions are :\")\n",
    "for i in X:\n",
    "    if X.index(i)%2 !=0:\n",
    "        print(i)"
   ]
  },
  {
   "cell_type": "code",
   "execution_count": 18,
   "id": "c7764e37",
   "metadata": {},
   "outputs": [
    {
     "name": "stdout",
     "output_type": "stream",
     "text": [
      "length of sing is :4\n",
      "length of dance is :5\n",
      "length of gallop is :6\n"
     ]
    }
   ],
   "source": [
    "#Problem 7.0\n",
    " #Printing length of each element inside a list\n",
    "X=['sing','dance','gallop']\n",
    "for i in X :\n",
    "    print(\"length of \"+str(i)+' is :'+str(len(i)))"
   ]
  },
  {
   "cell_type": "code",
   "execution_count": 19,
   "id": "f9578134",
   "metadata": {},
   "outputs": [
    {
     "name": "stdout",
     "output_type": "stream",
     "text": [
      "[40, 50, 60, 10, 20, 30]\n"
     ]
    }
   ],
   "source": [
    "#Problem 8.0\n",
    "# #Write a Python program to extend a list without append.\n",
    "# Sample data: [10, 20, 30]\n",
    "# [40, 50, 60]\n",
    "# Expected output : [40, 50, 60, 10, 20, 30]\n",
    "\n",
    "X=[10,20,30]\n",
    "Y=[60,50,40]\n",
    "for i in Y:\n",
    "    X.insert(0,i)\n",
    "print(X)"
   ]
  },
  {
   "cell_type": "code",
   "execution_count": 20,
   "id": "ff70b659",
   "metadata": {},
   "outputs": [
    {
     "name": "stdout",
     "output_type": "stream",
     "text": [
      "[8, 12, -24, 20, -36, 16]\n"
     ]
    }
   ],
   "source": [
    "#scalar multiplication \n",
    "X=[2,3,-6,5,-9,4]\n",
    "Y=[4*i for i in X]\n",
    "print(Y)"
   ]
  },
  {
   "cell_type": "code",
   "execution_count": 21,
   "id": "30aad394",
   "metadata": {},
   "outputs": [
    {
     "name": "stdout",
     "output_type": "stream",
     "text": [
      "['brown', 'brown', 'black']\n",
      "['brown', 'brown', 'black']\n"
     ]
    }
   ],
   "source": [
    "#Listing out those colors that starts with B\n",
    "colors=['brown','white','red','pink','brown','green','black']\n",
    "colors_with_B=[]\n",
    "for name in colors:\n",
    "    if name.startswith('b'):\n",
    "        colors_with_B.append(name)\n",
    "print(colors_with_B)\n",
    "#OR \n",
    "colors_with_B= [name for name in colors if name.startswith('b')]\n",
    "print(colors_with_B)"
   ]
  },
  {
   "cell_type": "code",
   "execution_count": 22,
   "id": "487165bf",
   "metadata": {},
   "outputs": [
    {
     "name": "stdout",
     "output_type": "stream",
     "text": [
      "['Devdas', 'Kites']\n"
     ]
    }
   ],
   "source": [
    "#Listing out movies that released before 2018\n",
    "movies=[('Devdas',2002),('Kites',2010),('Bala',2019)]\n",
    "movies_before_2k19=[movie for (movie,year) in movies if year<2019]\n",
    "print(movies_before_2k19)"
   ]
  },
  {
   "cell_type": "code",
   "execution_count": 23,
   "id": "b6a5262f",
   "metadata": {},
   "outputs": [
    {
     "name": "stdout",
     "output_type": "stream",
     "text": [
      "[[1, 2], [1, 4], [1, 6], [1, 8], [3, 2], [3, 4], [3, 6], [3, 8], [5, 2], [5, 4], [5, 6], [5, 8], [7, 2], [7, 4], [7, 6], [7, 8]]\n"
     ]
    }
   ],
   "source": [
    "#certesian product \n",
    "A=[1,3,5,7]\n",
    "B=[2,4,6,8]\n",
    "certesian_prod=[[a,b] for a in A for b in B]\n",
    "print(certesian_prod)"
   ]
  },
  {
   "cell_type": "code",
   "execution_count": 24,
   "id": "03cc839b",
   "metadata": {},
   "outputs": [
    {
     "name": "stdout",
     "output_type": "stream",
     "text": [
      "[('B', 'B', 'B'), ('B', 'B', 'O'), ('B', 'B', 'Y'), ('B', 'O', 'B'), ('B', 'O', 'O'), ('B', 'O', 'Y'), ('B', 'Y', 'B'), ('B', 'Y', 'O'), ('B', 'Y', 'Y'), ('O', 'B', 'B'), ('O', 'B', 'O'), ('O', 'B', 'Y'), ('O', 'O', 'B'), ('O', 'O', 'O'), ('O', 'O', 'Y'), ('O', 'Y', 'B'), ('O', 'Y', 'O'), ('O', 'Y', 'Y'), ('Y', 'B', 'B'), ('Y', 'B', 'O'), ('Y', 'B', 'Y'), ('Y', 'O', 'B'), ('Y', 'O', 'O'), ('Y', 'O', 'Y'), ('Y', 'Y', 'B'), ('Y', 'Y', 'O'), ('Y', 'Y', 'Y')]\n",
      "[('B', 'B'), ('B', 'O'), ('B', 'Y'), ('O', 'B'), ('O', 'O'), ('O', 'Y'), ('Y', 'B'), ('Y', 'O'), ('Y', 'Y')]\n"
     ]
    }
   ],
   "source": [
    "#Permutation \n",
    "X='BOY'\n",
    "List=list(X)\n",
    "permutation1=[(i,j,k) for i in List for j in List for k in List]\n",
    "permutation2=[(i,j) for i in List for j in List]\n",
    "\n",
    "print(permutation1); print(permutation2)"
   ]
  },
  {
   "cell_type": "code",
   "execution_count": null,
   "id": "37150166",
   "metadata": {},
   "outputs": [],
   "source": []
  }
 ],
 "metadata": {
  "kernelspec": {
   "display_name": "Python 3 (ipykernel)",
   "language": "python",
   "name": "python3"
  },
  "language_info": {
   "codemirror_mode": {
    "name": "ipython",
    "version": 3
   },
   "file_extension": ".py",
   "mimetype": "text/x-python",
   "name": "python",
   "nbconvert_exporter": "python",
   "pygments_lexer": "ipython3",
   "version": "3.9.13"
  }
 },
 "nbformat": 4,
 "nbformat_minor": 5
}
