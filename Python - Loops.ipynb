{
 "cells": [
  {
   "cell_type": "markdown",
   "id": "7a41d90c",
   "metadata": {},
   "source": [
    "<h2 align=\"center\"> Python Loops </h2>"
   ]
  },
  {
   "cell_type": "markdown",
   "id": "7a8c79d6",
   "metadata": {},
   "source": [
    "## While Loop"
   ]
  },
  {
   "cell_type": "code",
   "execution_count": 1,
   "id": "cc5e0f62",
   "metadata": {},
   "outputs": [
    {
     "name": "stdout",
     "output_type": "stream",
     "text": [
      "Guess the animal:tiger\n",
      "Guess the animal:lion\n",
      "Yeaaaaaaahhhhh.. !!!!!  You Won\n"
     ]
    }
   ],
   "source": [
    "#Guessing Game with infinite trials \n",
    "\n",
    "Secret_Word=\"lion\"\n",
    "guess=\"\"\n",
    "while guess != Secret_Word:\n",
    "    guess=input(\"Guess the animal:\")\n",
    "    continue\n",
    "else:\n",
    "    print(\"Yeaaaaaaahhhhh.. !!!!!  You Won\")"
   ]
  },
  {
   "cell_type": "code",
   "execution_count": 2,
   "id": "c96ca11e",
   "metadata": {},
   "outputs": [
    {
     "name": "stdout",
     "output_type": "stream",
     "text": [
      "Guess the ATM pin:7839\n",
      "Guess the ATM pin:9283\n",
      "Guess the ATM pin:8463\n",
      "Maximum Trial Limit Exceeded, No more guesses !\n"
     ]
    }
   ],
   "source": [
    "#Guessing Game with limited trials\n",
    "Secret_Word=\"5030\"\n",
    "guess=\"\"\n",
    "trials=1\n",
    "while guess != Secret_Word and trials<=3:\n",
    "    guess=input(\"Guess the ATM pin:\")\n",
    "    trials+=1\n",
    "    continue\n",
    "if guess==Secret_Word:\n",
    "    print(\"Yeaaaaaaahhhhh.. !!!!!  You Won the $$ Money $$ \")\n",
    "if trials>3:\n",
    "    print(\"Maximum Trial Limit Exceeded, No more guesses !\")"
   ]
  },
  {
   "cell_type": "markdown",
   "id": "3060cd4a",
   "metadata": {},
   "source": [
    "## For Loop"
   ]
  },
  {
   "cell_type": "code",
   "execution_count": 3,
   "id": "335530be",
   "metadata": {},
   "outputs": [
    {
     "name": "stdout",
     "output_type": "stream",
     "text": [
      "a\n",
      "1\n",
      "65\n",
      "BOY\n"
     ]
    }
   ],
   "source": [
    "#Prob 1.0\n",
    "X=['a',1,65,'BOY']   #X=Itterables,i=Iterating variable\n",
    "for i in X:\n",
    "    print(i)"
   ]
  },
  {
   "cell_type": "code",
   "execution_count": 4,
   "id": "16ff88db",
   "metadata": {},
   "outputs": [
    {
     "name": "stdout",
     "output_type": "stream",
     "text": [
      "K 1574070361136 0\n",
      "r 1574065282864 1\n",
      "i 1574065246512 2\n",
      "s 1574065235312 3\n",
      "h 1574067319792 4\n",
      "n 1574067148400 5\n",
      "e 1574067202288 6\n",
      "n 1574067148400 5\n",
      "d 1574065479472 8\n",
      "u 1574065502064 9\n",
      "Krishnendu 1571997283312\n"
     ]
    }
   ],
   "source": [
    "#Prob 2.0   \n",
    "X='Krishnendu'\n",
    "for i in X:\n",
    "    print(i,id(i),X.index(i))\n",
    "print(X,id(X))"
   ]
  },
  {
   "cell_type": "code",
   "execution_count": 5,
   "id": "dc727286",
   "metadata": {},
   "outputs": [
    {
     "name": "stdout",
     "output_type": "stream",
     "text": [
      "K1\n",
      "K2\n"
     ]
    }
   ],
   "source": [
    "#Prob 3.0    \n",
    "X={'K1':'V1','K2':'V2'}\n",
    "for i in X:\n",
    "    print(i)"
   ]
  },
  {
   "cell_type": "code",
   "execution_count": 6,
   "id": "34e312e8",
   "metadata": {},
   "outputs": [
    {
     "name": "stdout",
     "output_type": "stream",
     "text": [
      "3\n",
      "6\n",
      "Hi\n",
      "Hi\n",
      "1\n",
      "2\n",
      "4\n",
      "5\n",
      "7\n",
      "8\n"
     ]
    }
   ],
   "source": [
    "#Prob 4.0\n",
    "for i in range(1,10):\n",
    "    if i%3==0 and i%9!=0: #prints only those divisible by 3\n",
    "        print(i)\n",
    "\n",
    "for i in range(1,10):\n",
    "    if i%3==0:\n",
    "        break     #Stops iteration when number is divisible by 3\n",
    "    print(\"Hi\")\n",
    "\n",
    "for i in range (1,10):\n",
    "    if i%3==0:   #Stops only when a number is divisible by 3\n",
    "        continue\n",
    "    print(i)"
   ]
  },
  {
   "cell_type": "code",
   "execution_count": 7,
   "id": "7b0c7882",
   "metadata": {},
   "outputs": [
    {
     "name": "stdout",
     "output_type": "stream",
     "text": [
      "Apple\n",
      "I hate Bananna\n",
      "Mango\n"
     ]
    }
   ],
   "source": [
    "#Problem 5.0\n",
    "X=['Apple','Bananna','Mango']\n",
    "for i in X:\n",
    "    if i=='Bananna':\n",
    "        print(\"I hate \"+i)\n",
    "        continue\n",
    "    print(i)\n"
   ]
  },
  {
   "cell_type": "code",
   "execution_count": 8,
   "id": "497cff31",
   "metadata": {},
   "outputs": [
    {
     "name": "stdout",
     "output_type": "stream",
     "text": [
      "0\n",
      "1\n",
      "2\n",
      "3\n",
      "4\n",
      "1\n",
      "2\n",
      "3\n",
      "4\n",
      "1\n",
      "3\n",
      "5\n",
      "7\n",
      "9\n"
     ]
    }
   ],
   "source": [
    "#Problem 6.0\n",
    "for i in range(5):\n",
    "    print(i)\n",
    "for j in range(1,5):        #Initial value=1; Final value(5-1)=4\n",
    "    print(j)\n",
    "for k in range(1,11,2):     #AP Series with common difference =2\n",
    "    print(k)"
   ]
  },
  {
   "cell_type": "code",
   "execution_count": 9,
   "id": "bd66fcaf",
   "metadata": {},
   "outputs": [
    {
     "name": "stdout",
     "output_type": "stream",
     "text": [
      "15\n",
      "120\n"
     ]
    }
   ],
   "source": [
    "#Problem 7.0\n",
    "#Python program to sum & produkt all the items in a list\n",
    "X=[1,2,3,4,5]\n",
    "S=0\n",
    "P=1\n",
    "for i in X:\n",
    "    S=S+i\n",
    "    P=P*i\n",
    "print(S)\n",
    "print(P)"
   ]
  },
  {
   "cell_type": "code",
   "execution_count": 10,
   "id": "29f7df89",
   "metadata": {},
   "outputs": [
    {
     "name": "stdout",
     "output_type": "stream",
     "text": [
      "eagle\n"
     ]
    }
   ],
   "source": [
    "#Python program to find the list of words that are longer than n from a given list of words\n",
    "X=['bob','dome','eagle']\n",
    "for i in X:\n",
    "    if len(i)>4:\n",
    "        print(i)"
   ]
  },
  {
   "cell_type": "code",
   "execution_count": 11,
   "id": "9b344cc4",
   "metadata": {},
   "outputs": [
    {
     "name": "stdout",
     "output_type": "stream",
     "text": [
      "1\n",
      "2\n",
      "6\n",
      "5\n",
      "8\n",
      "6\n",
      "2\n"
     ]
    },
    {
     "data": {
      "text/plain": [
       "1"
      ]
     },
     "execution_count": 11,
     "metadata": {},
     "output_type": "execute_result"
    }
   ],
   "source": [
    "#Iterators and Iterables\n",
    "\n",
    "L=[1,2,6,5,8,6,2]\n",
    "for i in L :\n",
    "    print(i)\n",
    "\n",
    "L1=iter(L)  #Not all the datas are initialized at the same time as that in case of a List,untill we don't call the fn next()\n",
    "            # The list is an iterable which is converted into an iterator using iter() function\n",
    "next(L1)"
   ]
  },
  {
   "cell_type": "markdown",
   "id": "a089fa04",
   "metadata": {},
   "source": [
    "### Netsted For Loop"
   ]
  },
  {
   "cell_type": "code",
   "execution_count": 12,
   "id": "2f76f732",
   "metadata": {},
   "outputs": [
    {
     "name": "stdout",
     "output_type": "stream",
     "text": [
      "1 2 3 4 5 6 7 8 9 10 \n",
      "2 4 6 8 10 12 14 16 18 20 \n",
      "3 6 9 12 15 18 21 24 27 30 \n",
      "4 8 12 16 20 24 28 32 36 40 \n",
      "5 10 15 20 25 30 35 40 45 50 \n",
      "6 12 18 24 30 36 42 48 54 60 \n",
      "7 14 21 28 35 42 49 56 63 70 \n",
      "8 16 24 32 40 48 56 64 72 80 \n",
      "9 18 27 36 45 54 63 72 81 90 \n",
      "10 20 30 40 50 60 70 80 90 100 \n",
      "red apple\n",
      "red banana\n",
      "red cherry\n",
      "big apple\n",
      "big banana\n",
      "big cherry\n",
      "tasty apple\n",
      "tasty banana\n",
      "tasty cherry\n"
     ]
    }
   ],
   "source": [
    "#Problem 1.0(Printing Multiplication Table)\n",
    "\n",
    "X= range(1,11)\n",
    "for i in X:\n",
    "    for j in X:\n",
    "        print(i*j,end=' ')\n",
    "    print()\n",
    "\n",
    "#Problem 2.0\n",
    "X = [\"red\", \"big\", \"tasty\"]\n",
    "Y = [\"apple\", \"banana\", \"cherry\"]\n",
    "for i in X:\n",
    "  for j in Y:\n",
    "    print(i,j)"
   ]
  },
  {
   "cell_type": "code",
   "execution_count": null,
   "id": "e6693ded",
   "metadata": {},
   "outputs": [],
   "source": []
  },
  {
   "cell_type": "code",
   "execution_count": null,
   "id": "daee3736",
   "metadata": {},
   "outputs": [],
   "source": []
  },
  {
   "cell_type": "code",
   "execution_count": null,
   "id": "d7a483db",
   "metadata": {},
   "outputs": [],
   "source": []
  },
  {
   "cell_type": "code",
   "execution_count": null,
   "id": "7f67f466",
   "metadata": {},
   "outputs": [],
   "source": []
  },
  {
   "cell_type": "code",
   "execution_count": null,
   "id": "b5a35baf",
   "metadata": {},
   "outputs": [],
   "source": []
  },
  {
   "cell_type": "code",
   "execution_count": null,
   "id": "0960853c",
   "metadata": {},
   "outputs": [],
   "source": []
  },
  {
   "cell_type": "code",
   "execution_count": null,
   "id": "a730f90b",
   "metadata": {},
   "outputs": [],
   "source": []
  },
  {
   "cell_type": "code",
   "execution_count": null,
   "id": "69937ef6",
   "metadata": {},
   "outputs": [],
   "source": []
  },
  {
   "cell_type": "code",
   "execution_count": null,
   "id": "e5be2afa",
   "metadata": {},
   "outputs": [],
   "source": []
  }
 ],
 "metadata": {
  "kernelspec": {
   "display_name": "Python 3 (ipykernel)",
   "language": "python",
   "name": "python3"
  },
  "language_info": {
   "codemirror_mode": {
    "name": "ipython",
    "version": 3
   },
   "file_extension": ".py",
   "mimetype": "text/x-python",
   "name": "python",
   "nbconvert_exporter": "python",
   "pygments_lexer": "ipython3",
   "version": "3.9.13"
  }
 },
 "nbformat": 4,
 "nbformat_minor": 5
}
