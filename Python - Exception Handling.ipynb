{
 "cells": [
  {
   "cell_type": "markdown",
   "metadata": {},
   "source": [
    "**`1. Handling a single exception`**"
   ]
  },
  {
   "cell_type": "code",
   "execution_count": 1,
   "metadata": {},
   "outputs": [
    {
     "name": "stdout",
     "output_type": "stream",
     "text": [
      "Math Error : division by zero\n",
      "Bye\n",
      "Executed with/without Error !\n"
     ]
    }
   ],
   "source": [
    "# Example 1.0\n",
    "a=5\n",
    "b=0\n",
    "try:                                                # critical statement(Error Prone)\n",
    "    print(a/b)\n",
    "    print(\"Hey\")\n",
    "except Exception as e:                              # catch statement(to handle exveption)\n",
    "    print(\"Math Error :\", e)\n",
    "    print(\"Bye\")\n",
    "finally:\n",
    "    print(\"Executed with/without Error !\")"
   ]
  },
  {
   "cell_type": "code",
   "execution_count": 2,
   "metadata": {},
   "outputs": [
    {
     "name": "stdout",
     "output_type": "stream",
     "text": [
      "Error: list index out of range\n"
     ]
    }
   ],
   "source": [
    "# Example 2.0\n",
    "List=[2,5,6,8,7]\n",
    "try:\n",
    "    print(List[10])\n",
    "except Exception as e:\n",
    "    print(\"Error:\",e)"
   ]
  },
  {
   "cell_type": "markdown",
   "metadata": {},
   "source": [
    "**`2.  Handling Multiple Exceptions`**"
   ]
  },
  {
   "cell_type": "code",
   "execution_count": 3,
   "metadata": {},
   "outputs": [
    {
     "name": "stdout",
     "output_type": "stream",
     "text": [
      "2.5\n",
      "5\n",
      "6\n",
      "Error4 : unsupported operand type(s) for +: 'int' and 'str'\n"
     ]
    }
   ],
   "source": [
    "a=5\n",
    "b=2\n",
    "List=[2,5,6,8,7,9]\n",
    "Dict={'a':5,'b':6}\n",
    "try:\n",
    "    print(a/b)\n",
    "    print(List[1])\n",
    "    print(Dict['b'])\n",
    "    print(5+'a')\n",
    "\n",
    "except ZeroDivisionError as e1:\n",
    "    print(\"Error1 :\",e1)\n",
    "except IndexError as e2:\n",
    "    print(\"Error2 :\",e2)\n",
    "except KeyError as e3:\n",
    "    print(\"Error3 :\",e3)\n",
    "except Exception as e4:\n",
    "    print(\"Error4 :\",e4)\n"
   ]
  },
  {
   "cell_type": "code",
   "execution_count": null,
   "metadata": {},
   "outputs": [],
   "source": []
  }
 ],
 "metadata": {
  "kernelspec": {
   "display_name": "tf_env",
   "language": "python",
   "name": "python3"
  },
  "language_info": {
   "codemirror_mode": {
    "name": "ipython",
    "version": 3
   },
   "file_extension": ".py",
   "mimetype": "text/x-python",
   "name": "python",
   "nbconvert_exporter": "python",
   "pygments_lexer": "ipython3",
   "version": "3.10.11"
  }
 },
 "nbformat": 4,
 "nbformat_minor": 2
}
