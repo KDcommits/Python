{
 "cells": [
  {
   "cell_type": "markdown",
   "id": "fe6f132a",
   "metadata": {},
   "source": [
    "## Input function"
   ]
  },
  {
   "cell_type": "code",
   "execution_count": 2,
   "id": "9478263e",
   "metadata": {},
   "outputs": [
    {
     "name": "stdout",
     "output_type": "stream",
     "text": [
      " What's your name ??Krishnendu\n",
      "Hi..Krishnendu\n",
      "enter 1st number2\n",
      "enter 2nd number3\n",
      "<class 'str'> <class 'str'> <class 'str'>\n",
      "23\n",
      "enter 1st number2\n",
      "enter 2nd number6\n",
      "8\n",
      "Enter an equation5/2+4-3\n",
      "3.5\n"
     ]
    }
   ],
   "source": [
    "#Problem 1.0\n",
    "x= input(\" What's your name ??\")\n",
    "print( \"Hi..\"+x)\n",
    "\n",
    "#Problem 2.0\n",
    "y=input(\"enter 1st number\")\n",
    "z=input(\"enter 2nd number\")\n",
    "result=y+z    \n",
    "print(type(x),type(y),type(result))\n",
    "                #As input function always fetches input as a string\n",
    "print(result)\n",
    "\n",
    "#Problem 3.0\n",
    "p=input(\"enter 1st number\")\n",
    "q=input(\"enter 2nd number\")\n",
    "Result=int(p)+int(q)    \n",
    "print(Result)\n",
    "\n",
    "#Problem 4.0\n",
    "E= input(\"Enter an equation\")\n",
    "print(eval(E))\n"
   ]
  },
  {
   "cell_type": "markdown",
   "id": "ada4a906",
   "metadata": {},
   "source": [
    "## SYS Module"
   ]
  },
  {
   "cell_type": "code",
   "execution_count": 3,
   "id": "a9140550",
   "metadata": {},
   "outputs": [
    {
     "name": "stdout",
     "output_type": "stream",
     "text": [
      "Python version\n",
      "3.10.9 | packaged by conda-forge | (main, Jan 11 2023, 15:15:40) [MSC v.1916 64 bit (AMD64)]\n",
      "Version info.\n",
      "sys.version_info(major=3, minor=10, micro=9, releaselevel='final', serial=0)\n",
      "1013\n",
      "50989552\n",
      "C:\\Users\\krish\\anaconda3\\envs\\tf_env\n"
     ]
    }
   ],
   "source": [
    "import sys\n",
    "print(\"Python version\")\n",
    "print (sys.version)\n",
    "print(\"Version info.\")\n",
    "print (sys.version_info)\n",
    "print(sys.api_version)\n",
    "print(sys.hexversion)\n",
    "print(sys.base_prefix)"
   ]
  },
  {
   "cell_type": "markdown",
   "id": "94a30f3b",
   "metadata": {},
   "source": [
    "## Logical Operator"
   ]
  },
  {
   "cell_type": "code",
   "execution_count": 6,
   "id": "335d45f2",
   "metadata": {},
   "outputs": [
    {
     "name": "stdout",
     "output_type": "stream",
     "text": [
      "True False True True\n"
     ]
    }
   ],
   "source": [
    "a=5\n",
    "b=4\n",
    "T1= a<6 and b>3\n",
    "F1= a>6 and b>3\n",
    "T2= a<6 or b>3\n",
    "F2= a>6 or b>3\n",
    "print(T1,F1,T2,F2)"
   ]
  },
  {
   "cell_type": "markdown",
   "id": "97fcaa46",
   "metadata": {},
   "source": [
    "## Number System"
   ]
  },
  {
   "cell_type": "code",
   "execution_count": 7,
   "id": "2fe46ae4",
   "metadata": {},
   "outputs": [
    {
     "name": "stdout",
     "output_type": "stream",
     "text": [
      "0b11001 0o31 0x19 25 25 25\n"
     ]
    }
   ],
   "source": [
    "Binary=bin(25)          #Decimal to binary\n",
    "octal=oct(25)           #Decimal to octal\n",
    "Hexadecimal=hex(25)     #Decimal to hexadecimal\n",
    "D1= 0b11001             #Binary to decimal\n",
    "D2= 0o31                #Binary to Octal\n",
    "D3= 0x19                #Binary to Hexadecimal\n",
    "\n",
    "print(Binary,octal,Hexadecimal,D1,D2,D3)\n"
   ]
  },
  {
   "cell_type": "markdown",
   "id": "21b5f0b6",
   "metadata": {},
   "source": [
    "## OS Module"
   ]
  },
  {
   "cell_type": "code",
   "execution_count": 5,
   "id": "7fb60444",
   "metadata": {},
   "outputs": [
    {
     "data": {
      "text/plain": [
       "os.stat_result(st_mode=33206, st_ino=5910974511015598, st_dev=1551008128, st_nlink=1, st_uid=0, st_gid=0, st_size=1548, st_atime=1675622675, st_mtime=1675622473, st_ctime=1675622469)"
      ]
     },
     "execution_count": 5,
     "metadata": {},
     "output_type": "execute_result"
    }
   ],
   "source": [
    "# OS Module\n",
    "import os\n",
    "\n",
    "os.getcwd()                                             #To print directory where the files are getting saved\n",
    "# os.chdir('D:\\\\Language\\\\Python & DA\\\\Language\\\\codes')  #To change directory\n",
    "os.getcwd()                                             #Prints the changed directory of the folder\n",
    "os.listdir()                                            #Prints all the file and folder names in that directory\n",
    "os.stat('SET.txt')                                      #Prints stats of the SET.txt file\n",
    "# os.mkdir('New_Demo')                                    #Makes new folder with name \"New_Demo\"\n",
    "# os.rename('New_Demo','New_Folder')                      #Renames the newly created folder\n",
    "# os.rmdir('New_Folder')                                  #Deletes the newly created folder"
   ]
  },
  {
   "cell_type": "code",
   "execution_count": null,
   "id": "fc5a41d4",
   "metadata": {},
   "outputs": [],
   "source": []
  }
 ],
 "metadata": {
  "kernelspec": {
   "display_name": "Python 3 (ipykernel)",
   "language": "python",
   "name": "python3"
  },
  "language_info": {
   "codemirror_mode": {
    "name": "ipython",
    "version": 3
   },
   "file_extension": ".py",
   "mimetype": "text/x-python",
   "name": "python",
   "nbconvert_exporter": "python",
   "pygments_lexer": "ipython3",
   "version": "3.10.9"
  }
 },
 "nbformat": 4,
 "nbformat_minor": 5
}
