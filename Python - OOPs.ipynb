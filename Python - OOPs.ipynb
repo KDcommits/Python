{
  "cells": [
    {
      "cell_type": "markdown",
      "metadata": {
        "id": "oQU8XVfhZSHH"
      },
      "source": [
        "##                                          Object Oriented Programming"
      ]
    },
    {
      "cell_type": "markdown",
      "metadata": {
        "id": "WKA37xwRZSHI"
      },
      "source": [
        "##### Everything in Python is Object"
      ]
    },
    {
      "cell_type": "code",
      "execution_count": 1,
      "metadata": {
        "id": "SQGICiT9ZSHJ",
        "outputId": "9b5fc97d-01ec-43d2-a063-3a3f0655985e",
        "scrolled": true
      },
      "outputs": [
        {
          "name": "stdout",
          "output_type": "stream",
          "text": [
            "HELLO\n",
            "<class 'int'> <class 'str'>\n",
            "56\n",
            "56\n"
          ]
        }
      ],
      "source": [
        "x=1                              # x= object of type int with value 1\n",
        "y=\"Hello\"                        # y = object of type String with value \"Hello\"\n",
        "print(y.upper())                 # .upper()= a method of the string type object y\n",
        "print(type(x),type(y))           # Everything in python is in the form of object(Hidden Objects)\n",
        "\n",
        "a=\"5\"\n",
        "b=\"6\"\n",
        "print(a+b)\n",
        "#print(int.__add__(a,b))           # int is an object and __add__() is the method\n",
        "print(str.__add__(a,b))           # str is an object and __add__() is the method"
      ]
    },
    {
      "cell_type": "markdown",
      "metadata": {
        "id": "sfnqE6bEZSHK"
      },
      "source": [
        "### Example 1.0"
      ]
    },
    {
      "cell_type": "code",
      "execution_count": 2,
      "metadata": {
        "id": "crEkGZEdZSHK",
        "outputId": "fee9bd7b-7b25-48de-e6d7-dd388ede0bf6"
      },
      "outputs": [
        {
          "name": "stdout",
          "output_type": "stream",
          "text": [
            "<__main__.User object at 0x00000208B7D026B0>\n",
            "<__main__.User object at 0x00000208B7D01ED0>\n",
            "<class '__main__.User'>\n",
            "<class '__main__.User'>\n",
            "2236466865840\n",
            "2236466863824\n",
            "Krishnendu Dey\n",
            "23 pwc\n"
          ]
        }
      ],
      "source": [
        "class User:\n",
        "    pass\n",
        "user1=User()   # user1=Object or instance of User class\n",
        "user2=User()   # user2=Object or instance of User class\n",
        "print(user1)\n",
        "print(user2)   #prints to which class the object(user2) belongs and address of heap memory\n",
        "\n",
        "print(type(user1))    # Shoows user1 is the object of class and the class is in the \"__main__\" module\n",
        "print(type(user2))\n",
        "\n",
        "print(id(user1))\n",
        "print(id(user2))\n",
        "\n",
        "user1.first_name='Krishnendu'              #Field = Data attribute attached to the object(Instance Variable)\n",
        "user1.last_name='Dey'\n",
        "print(user1.first_name,user1.last_name)    #to access data of the object inside print give argument object.field_name; here field_name is first_name\n",
        "\n",
        "user2.age='23'\n",
        "user2.employed_at='pwc'\n",
        "print(user2.age,user2.employed_at)"
      ]
    },
    {
      "cell_type": "markdown",
      "metadata": {},
      "source": [
        "### Example 1.1"
      ]
    },
    {
      "cell_type": "markdown",
      "metadata": {},
      "source": [
        "**`Constructor`**<br>\n",
        "Constructors are generally used for instantiating an object.The task of constructors is to initialize(assign values) to the data members of the class when an object of class is created. <u>A constructor is a special type of method (function) which is used to initialize the instance members of the class.</u><br>\n",
        "\n",
        "There are two types of constructors:<br>\n",
        "- ***Default constructor :*** The default constructor is simple constructor which doesn’t accept any arguments except self which carries the reference to the instance being constructed.\n",
        "- ***Parameterized constructor :*** The constructor with parameters is known as parameterized constructor.The parameterized constructor take its first argument as a reference to the instance being constructed known as self and the rest of the arguments are provided by the programme."
      ]
    },
    {
      "cell_type": "code",
      "execution_count": 4,
      "metadata": {},
      "outputs": [
        {
          "name": "stdout",
          "output_type": "stream",
          "text": [
            "The constructor is called\n",
            "Python\n"
          ]
        }
      ],
      "source": [
        "## Default Constructor\n",
        "class ClassExample:\n",
        "    def __init__(self):                        # Default constructor\n",
        "        print(\"The constructor is called\")\n",
        "        self.variable = \"Python\"               # when the object is instantiated self.variable gets the value assigned.\n",
        "\n",
        "    def show(self):                            # Defining instance method\n",
        "        print(self.variable)\n",
        "  \n",
        "## Creating object \n",
        "obj = ClassExample()\n",
        "\n",
        "obj.show()                                     # calling the instance method using the object obj"
      ]
    },
    {
      "cell_type": "code",
      "execution_count": 5,
      "metadata": {},
      "outputs": [
        {
          "name": "stdout",
          "output_type": "stream",
          "text": [
            "The constructor is called\n"
          ]
        },
        {
          "data": {
            "text/plain": [
              "'krishnendudey@gmail.com'"
            ]
          },
          "execution_count": 5,
          "metadata": {},
          "output_type": "execute_result"
        }
      ],
      "source": [
        "## Parameterized Conctructor\n",
        "class Student:\n",
        "    var=9\n",
        "    def __init__(self,name,title):              # Parameterized constructor\n",
        "        print(\"The constructor is called\")\n",
        "        self.name=name\n",
        "        self.title=title\n",
        "\n",
        "    def eMail(self):\n",
        "        return self.name.lower()+self.title.lower()+\"@gmail.com\"\n",
        "        \n",
        "s1=Student(\"krishnendu\",\"Dey\")\n",
        "s1.eMail()"
      ]
    },
    {
      "cell_type": "markdown",
      "metadata": {
        "id": "9M1mHezAZSHK"
      },
      "source": [
        "### Example 2.0"
      ]
    },
    {
      "cell_type": "markdown",
      "metadata": {},
      "source": [
        "**Attribute Lookup:** As instance knows from which class it is instantiated, so when requested for an attribute from an instance, the instance looks for the attribute and the class. This is called the \"attribute lookup\"."
      ]
    },
    {
      "cell_type": "markdown",
      "metadata": {},
      "source": [
        "- A function defined within a class is called a method.\n",
        "- An instance method requires an instance in order to call it and requires no decorator.\n",
        "- When creating an instance method, the first parameter is always self."
      ]
    },
    {
      "cell_type": "markdown",
      "metadata": {},
      "source": [
        "- ***Attributes :*** Attributes are the features of the objects or the variables used in a class\n",
        "- ***Methods:*** Whereas the methods are the operations or activities performed by that object defined as functions in the class"
      ]
    },
    {
      "cell_type": "code",
      "execution_count": 6,
      "metadata": {
        "id": "0pxYlcJZZSHL",
        "outputId": "568ed012-893e-428b-b62e-acb8c0cc7ef3"
      },
      "outputs": [
        {
          "name": "stdout",
          "output_type": "stream",
          "text": [
            "9\n",
            "class Variable Value :  19\n",
            "class Variable Value :  9\n",
            "Hello User\n",
            "10\n",
            "class Variable Value with classmethod:  9\n",
            "class Variable Value with classmethod:  9\n"
          ]
        }
      ],
      "source": [
        "class MyClass(object):\n",
        "    var = 9                    ## Class Variable named \"var\" \n",
        "    def Method1(self):\n",
        "        print('Hello User')\n",
        "\n",
        "    def Method2(self,x):\n",
        "        return x+5\n",
        "    \n",
        "    def accessClassVariable(self):\n",
        "        '''\n",
        "            Example of an Instance Method\n",
        "            Using the self keyword is more flexible because it allows for potential subclassing and overriding \n",
        "            of the class variable in derived classes, while referencing the class name directly always accesses \n",
        "            the original class variable.\n",
        "        '''\n",
        "        print(\"class Variable Value : \", self.var)\n",
        "        print(\"class Variable Value : \", MyClass.var)\n",
        "\n",
        "    @classmethod\n",
        "    def class_method(cls):\n",
        "        '''\n",
        "            Example of a class method\n",
        "        '''\n",
        "        print(\"class Variable Value with classmethod: \", cls.var)\n",
        "        print(\"class Variable Value with classmethod: \", MyClass.var)\n",
        "\n",
        "    \n",
        "### Creating object and accessing instance methods\n",
        "obj1= MyClass()\n",
        "print(obj1.var)\n",
        "obj1.var= 19                 ## Changing class variable value to 19\n",
        "obj1.accessClassVariable()\n",
        "obj1.Method1()\n",
        "print (obj1.Method2(5))\n",
        "\n",
        "### Calling a classmethod \n",
        "MyClass.class_method()\n",
        "\n",
        "# print(obj1.accessClassVariable)\n",
        "# print(MyClass.class_method)"
      ]
    },
    {
      "cell_type": "markdown",
      "metadata": {},
      "source": [
        " **Local Variable**<br>\n",
        " Variables defined inside methods, constructors or blocks are called local variables. The variable will be declared and initialized within the method and it will be destroyed when the method has completed"
      ]
    },
    {
      "cell_type": "markdown",
      "metadata": {},
      "source": [
        "**When to use Class Variables instead of instance variables ?**<br>\n",
        "\n",
        "- ***Shared Data:*** Use class variables when you want to store data that is shared among all instances of a class. Class variables are shared by all instances of the class, and changes to them affect all instances.\n",
        "\n",
        "- ***Constants:*** Class variables are useful for defining constants that don't change across instances of a class. For example, you can use class variables to store configuration settings or default values that are common to all instances.\n",
        "\n",
        "- ***Memory Efficiency:*** When the data doesn't need to be unique for each instance and you want to save memory, class variables are more memory-efficient because they are shared among all instances."
      ]
    },
    {
      "cell_type": "markdown",
      "metadata": {
        "id": "ROtDfDjCZSHL"
      },
      "source": [
        "### Example 3.0"
      ]
    },
    {
      "cell_type": "code",
      "execution_count": 10,
      "metadata": {
        "id": "9nl6nUZlZSHL",
        "outputId": "d1899d17-ebb5-423c-8a4f-e3a39eee39d2"
      },
      "outputs": [
        {
          "name": "stdout",
          "output_type": "stream",
          "text": [
            "Krishnendu 21 krishnendu21gmail.com\n",
            "713101\n",
            "{'n': 'Krishnendu', 'a': 21, 'number': 713101}\n"
          ]
        }
      ],
      "source": [
        "class Student:\n",
        "    def __init__(self,name,age=18): # setting a default value of age = 18\n",
        "        self.n=name                 # Instance variable \"n\" of class Student\n",
        "        self.a=age                  # Instance variable \"a\" of class Student\n",
        "\n",
        "    def email(self):\n",
        "        return self.n.lower()+str(self.a)+'gmail.com'\n",
        "\n",
        "    def pin(self,num):\n",
        "        self.number=num\n",
        "        print(num)\n",
        "\n",
        "\n",
        "s1=Student('Krishnendu',23)\n",
        "s1.a=21                                              # Modifying the value of the instance variable\n",
        "print(s1.n, s1.a, s1.email())\n",
        "s1.pin(713101)\n",
        "#print(Student.__dict__)                             # Prints all the attributes and methods of the class Student\n",
        "print(s1.__dict__ )                                  # Prints all the attributes of the s1 instance\n"
      ]
    },
    {
      "cell_type": "markdown",
      "metadata": {},
      "source": [
        "**Difference between Class Variables and Instance Variables**\n",
        "\n",
        "| Parameter          | Class Variables                                                                                                        | Instance Variables                                                                                                     |\n",
        "|--------------------|------------------------------------------------------------------------------------------------------------------------|------------------------------------------------------------------------------------------------------------------------|\n",
        "| Definition         | Class variables are defined within the class but outside of any class methods.                                  | Instance variables are defined within class methods, typically the constructor.                                       |\n",
        "| Scope              | Changes made to the class variable affect all instances.                                                            | Changes made to the instance variable do not affect all instances.                                                      |\n",
        "| Initialization     | Class variables can be initialized either inside the class definition or outside the class definition.         | Instance variables are typically initialized in the constructor of the class.                                          |\n",
        "| Access             | Class variables are accessed using the class name, followed by the variable name.                                 | Instance variables are accessed using the instance name, followed by the variable name.                              |\n",
        "| Usage              | Class variables are useful for storing data that is shared among all instances of a class, such as constants or default values. | Instance variables are used to store data that is unique to each instance of a class, such as object properties.      |\n"
      ]
    },
    {
      "cell_type": "markdown",
      "metadata": {
        "id": "1VoIgZuAZSHL"
      },
      "source": [
        "### Example 4.0"
      ]
    },
    {
      "cell_type": "markdown",
      "metadata": {},
      "source": [
        "#### **Theory** : \n",
        "- **`__init__() ` in OOPs in Python:**<br>\n",
        "    In Python object-oriented programming (OOP), `__init__()` (initializer aka constructor) is a special method, also known as a constructor. It is called when an object is created from a class and is used to initialize the attributes or properties of that object. The `__init__()` method is a built-in method in Python and is automatically called when you create a new instance (object) of a class.\n",
        "    \n",
        "- **`self` in OOPs in Python:**<br>\n",
        "    In Python object-oriented programming (OOP), self is a convention used to represent the instance of a class within that class's methods. It is the first parameter of instance methods in Python. When you define a method within a class, you use self as the first parameter, although you can name it differently if you want; self is just a convention and not a keyword.\n",
        "\n",
        "    The self parameter allows you to access and modify instance variables and call other instance methods within the class. It essentially refers to the object or instance itself, and it's used to differentiate between instance variables and local variables within a method.\n",
        "\n",
        "- **`Instance Method`:**<br>\n",
        "    An instance method in object-oriented programming (OOP) is a method that is associated with an instance of a class. These methods are typically defined within a class and can access and manipulate the attributes (instance variables) of that class. Instance methods are called on instances (objects) of the class and often operate on the data specific to those instances.\n",
        "    Here are some key characteristics of instance methods:\n",
        "    1.  Instance methods can access and modify instance variables, allowing them to work with the unique data associated with each instance of the class.\n",
        "    2. Instance methods always have the self parameter as their first parameter. The self parameter refers to the instance that the method is called on, and it allows the method to access the instance's attributes and methods.\n",
        "    3. Instance methods can also access class variables, but they do so using the self parameter. This means they can access both instance-specific and class-wide data.\n",
        "\n",
        "\n",
        "- **`Class Method`:**<br>\n",
        "    In Python, a class method is a method that is bound to the class and not the instance of the class. Class methods are defined using the @classmethod decorator, and they take the class itself as their first argument, conventionally named cls. Class methods are typically used for operations that are not specific to any particular instance but are related to the class as a whole.\n",
        "    Here are some key characteristics of instance methods:\n",
        "    1. They are defined using the @classmethod decorator.\n",
        "    2. They take the class itself as their first argument, usually named cls, but you can choose any valid name.\n",
        "    3. They can access and modify class-level attributes but not instance-specific attributes \n",
        "\n",
        "- **`Static Method`:**<br>\n",
        "    In Python, a static method is a method that belongs to a class rather than an instance of the class. It is defined using the @staticmethod decorator and does not take any implicit first argument like self or cls. Static methods are often used for utility functions that are related to the class but don't depend on instance-specific data or class-specific data.\n",
        "    Here are some key characteristics of instance methods:\n",
        "    1. They are defined using the @staticmethod decorator.\n",
        "    2. They do not have access to instance-specific or class-specific data by default.\n",
        "    3. They are similar to regular functions but are scoped within the class to which they belong."
      ]
    },
    {
      "cell_type": "markdown",
      "metadata": {},
      "source": [
        "| Characteristic         | Instance Method                                     | Class Method                                         | Static Method                                        |\n",
        "|------------------------|----------------------------------------------------|------------------------------------------------------|------------------------------------------------------|\n",
        "| Definition             | Defined within a class and take `self` as the first parameter. | Defined within a class and take `cls` as the first parameter. | Defined within a class and do not take `self` or `cls` as the first parameter. |\n",
        "| Access to Instance Data | Can access and modify instance-specific data using `self`. | Limited access to instance data; often used for class-level data. | No access to instance-specific or class-specific data by default. |\n",
        "| Access to Class Data   | Can access class variables using `self` or the class name. | Can access class variables using `cls` or the class name. | Can access class variables using the class name. |\n",
        "| Usage                  | Typically used for operations specific to an instance of the class. | Used for operations that involve the class as a whole or class-level data. | Used for utility functions related to the class but not dependent on instance-specific data or class-specific data. |\n",
        "| First Argument         | Requires `self` as the first parameter.          | Requires `cls` as the first parameter.               | Does not require `self` or `cls` as the first parameter. |\n",
        "| Decorator              | No special decorator required.                     | Decorated with `@classmethod`.                       | Decorated with `@staticmethod`.                      |"
      ]
    },
    {
      "cell_type": "markdown",
      "metadata": {},
      "source": [
        "- **`Decorators`**<br>\n",
        "    In Python, decorators are a powerful and flexible way to modify or enhance the behavior of functions or methods without changing their code. Decorators are typically applied to functions or methods using the \"@\" symbol followed by the decorator name. They are widely used for tasks like logging, access control, memoization, and more."
      ]
    },
    {
      "cell_type": "code",
      "execution_count": 13,
      "metadata": {},
      "outputs": [
        {
          "name": "stdout",
          "output_type": "stream",
          "text": [
            "Something is happening before the function is called.\n",
            "Hello!\n",
            "Something is happening after the function is called.\n"
          ]
        }
      ],
      "source": [
        "# Creating our own Decorator function\n",
        "def my_decorator(func):\n",
        "    def wrapper():\n",
        "        print(\"Something is happening before the function is called.\")\n",
        "        func()\n",
        "        print(\"Something is happening after the function is called.\")\n",
        "    return wrapper\n",
        "\n",
        "# Applying the decorator using the \"@\" syntax\n",
        "@my_decorator\n",
        "def say_hello():\n",
        "    print(\"Hello!\")\n",
        "\n",
        "# Calling the decorated function\n",
        "say_hello()\n"
      ]
    },
    {
      "cell_type": "code",
      "execution_count": 12,
      "metadata": {
        "id": "pImtNh_2ZSHL",
        "outputId": "3ec95470-c29d-4f85-f5b2-51afb67222bf",
        "scrolled": true
      },
      "outputs": [
        {
          "name": "stdout",
          "output_type": "stream",
          "text": [
            "krishnendu Dey 24 krishnendu.23@gmail.com\n",
            "KRISHNENDU DEY 21000.0\n",
            "subrata Dey 55 subrata.56@gmail.com\n",
            "SUBRATA DEY 31500.0\n",
            "Kolkata Kolkata Kolkata\n",
            "Krishnendu is son of Subrata Dey\n",
            "True\n",
            "krishnendu\n",
            "tcs\n",
            "{'name': 'krishnendu', 'age': 24, 'email': 'krishnendu.23@gmail.com', 'pay': 20000, 'company': 'tcs'}\n",
            "{'name': 'subrata', 'email': 'subrata.56@gmail.com', 'pay': 30000}\n",
            "User\n",
            "__main__\n",
            "(<class 'object'>,)\n",
            "None\n"
          ]
        }
      ],
      "source": [
        "class User:\n",
        "    city='Bardhaman'                                 # city is a class variable\n",
        "    surname='dey'                                    # Surname  is a class/Static variable. It is common to all the objects inside the class.\n",
        "    def __init__(self,name,age,pay):                 # __init__=Initializor aka constructor.It is called everytime a new object is called inside a class.\n",
        "                                                     # The default argument of the init method \"self\" contains reference (or points) to the object.\n",
        "                                                     # each method inside class by default takes reference of the object(self) as the first argument.\n",
        "        self.name=name\n",
        "        self.age=age                                  \n",
        "        self.email=name+'.'+str(age)+'@gmail.com'\n",
        "        self.pay=pay\n",
        "\n",
        "     #Instance method : Methods that works with instance  variable\n",
        "\n",
        "    def Fullname_in_caps(self):\n",
        "        return self.name.upper()+' '+self.surname.upper()\n",
        "\n",
        "    def Pay_Increment(self):\n",
        "        return self.pay*1.05\n",
        "\n",
        "    #class method : works with class variables\n",
        "    @classmethod                                       #Decorator\n",
        "    def Info(cls):                                     #cls is just like self that carries reference to the class variables\n",
        "        return cls.city\n",
        "\n",
        "    #Static Method : Doesn't deal with class or inst method\n",
        "    @staticmethod                                        #Decorator\n",
        "    def Relation():                                      #need no argument like self or cls\n",
        "        return \"Krishnendu is son of Subrata \" + User.surname\n",
        "\n",
        "\n",
        "user1=User('krishnendu',23,20000)                        #user=object of class User\n",
        "user2=User('subrata',56,30000)\n",
        "User.surname='Dey'                                       #Modifying the class variable data\n",
        "user2.age=55                                             #Modifying instance variable data\n",
        "\n",
        "User.city='Kolkata'                                      # Manipulating the class variable data\n",
        "user1.age=24                                             # Manipulating Instance variable data\n",
        "\n",
        "print(user1.name,User.surname,user1.age,user1.email)\n",
        "print(user1.Fullname_in_caps(),user1.Pay_Increment())\n",
        "print(user2.name,user2.surname,user2.age,user2.email)\n",
        "print(user2.Fullname_in_caps(),user2.Pay_Increment())\n",
        "print(user1.Info(),user2.Info(),User.Info())\n",
        "print(User.Relation())\n",
        "print(hasattr(user1,'name'))                          # true if 'salary' attribute exists\n",
        "print(getattr(user1,'name'))                          # Returns value of 'name' attribute\n",
        "setattr(user1,'company','tcs')                        # sets attribute 'company' =tcs\n",
        "print(user1.company)\n",
        "delattr(user2,'age')                                  #Deletes attribute age from obj user2\n",
        "#print(User.__dict__)\n",
        "print(user1.__dict__)\n",
        "print(user2.__dict__)\n",
        "print(User.__name__)                                 #Class name\n",
        "print(User.__module__)                               #Module name in which the class is defined. This attribute is \"__main__\" in interactive mode.\n",
        "print(User.__bases__)                                #A possibly empty tuple containing the base classes, in the order of their occurrence in the base class list\n",
        "print(User.__doc__)                                  #Class documentation string or none,if undefined\n"
      ]
    },
    {
      "cell_type": "markdown",
      "metadata": {
        "id": "Ld6eF_07ZSHM"
      },
      "source": [
        "### Example 4.1"
      ]
    },
    {
      "cell_type": "code",
      "execution_count": null,
      "metadata": {
        "id": "GxQ_Nnx3ZSHM",
        "outputId": "141759d6-a966-45a5-8d34-e514e216f9af"
      },
      "outputs": [
        {
          "name": "stdout",
          "output_type": "stream",
          "text": [
            "krishnendudey@gmail.com\n",
            "Krishnendu Dey\n"
          ]
        }
      ],
      "source": [
        "# Method to property conversion using @property decorator\n",
        "class Employee:\n",
        "\n",
        "    def __init__(self,first,last):\n",
        "        self.first=first\n",
        "        self.last=last\n",
        "\n",
        "    @property                                          #converts a Method to an Attribute\n",
        "    def email(self):\n",
        "        return self.first.lower()+ self.last.lower()+ '@gmail.com'\n",
        "\n",
        "    def Fullname(self):\n",
        "        return self.first+' '+self.last\n",
        "\n",
        "Emp1=Employee('Krishnendu','Dey')\n",
        "\n",
        "print(Emp1.email)\n",
        "print(Emp1.Fullname())"
      ]
    },
    {
      "cell_type": "markdown",
      "metadata": {
        "id": "K9Y68OD3ZSHM"
      },
      "source": [
        "### Example 5.0                        \n",
        "\n",
        "**a. `MULTI-LEVEL Inheritance`:**<br>\n",
        "Multilevel inheritance refers to a situation where a class inherits from a derived class, which, in turn, inherits from another class. It forms a chain of inheritance with multiple levels of classes."
      ]
    },
    {
      "cell_type": "code",
      "execution_count": null,
      "metadata": {
        "id": "4-xeyo9JZSHM",
        "outputId": "6dba1d75-b102-4713-a7f0-b02c0d2e9e3e"
      },
      "outputs": [
        {
          "name": "stdout",
          "output_type": "stream",
          "text": [
            "f1 is working\n",
            "f1 is working\n",
            "f2 is working\n",
            "f1 is working\n",
            "f2 is working\n",
            "f3 is working\n"
          ]
        }
      ],
      "source": [
        "class A:\n",
        "    def f1(self):\n",
        "        return 'f1 is working'\n",
        "a=A()\n",
        "print(a.f1())\n",
        "\n",
        "class B(A):            # Declaring class B as the sub-class of super class A\n",
        "    def f2(self):\n",
        "        return 'f2 is working'\n",
        "b=B()\n",
        "print(b.f1())\n",
        "print(b.f2())\n",
        "\n",
        "\n",
        "class C(B):           # Declaring class c as the sub-class of super class B\n",
        "    def f3(self):\n",
        "        return 'f3 is working'\n",
        "\n",
        "c=C()\n",
        "print(c.f1())\n",
        "print(c.f2())\n",
        "print(c.f3())"
      ]
    },
    {
      "cell_type": "markdown",
      "metadata": {
        "id": "_8mTWxVaZSHM"
      },
      "source": [
        "**b. `MULTIPLE Inheritance`**<br>\n",
        "Multiple inheritance occurs when a class inherits from more than one base class. In other words, a derived class can inherit attributes and methods from multiple parent classes."
      ]
    },
    {
      "cell_type": "code",
      "execution_count": null,
      "metadata": {
        "id": "KqhlMgB9ZSHN",
        "outputId": "db2e6fcb-4d27-426f-9fc6-755ba723be0e",
        "scrolled": true
      },
      "outputs": [
        {
          "name": "stdout",
          "output_type": "stream",
          "text": [
            "f4 is working\n",
            "f5 is working\n",
            "f6 is working\n"
          ]
        }
      ],
      "source": [
        "class X:\n",
        "    def f4(self):\n",
        "        return 'f4 is working'\n",
        "x=X()\n",
        "\n",
        "class Y:\n",
        "    def f5(self):\n",
        "        return 'f5 is working'\n",
        "y=Y()\n",
        "\n",
        "class Z(X,Y):             # class Z inherits class X and class Y\n",
        "    def f6(self):\n",
        "        return 'f6 is working'\n",
        "z=Z()\n",
        "print(z.f4())\n",
        "print(z.f5())\n",
        "print(z.f6())"
      ]
    },
    {
      "cell_type": "markdown",
      "metadata": {
        "id": "0SIaaX_CZSHN"
      },
      "source": [
        "### Example 6.0\n",
        "**`Inheritance`:**<br>\n",
        "Inheritance is a fundamental concept in object-oriented programming (OOP) that allows you to create a new class based on an existing class. The new class, called the \"subclass\" inherits attributes and behaviors (i.e., data members and methods) from the existing class, known as the \"parent class.\" Inheritance facilitates code reuse and promotes the creation of a hierarchy of classes with increasing specialization."
      ]
    },
    {
      "cell_type": "code",
      "execution_count": 15,
      "metadata": {
        "id": "F6ZnuaAcZSHN"
      },
      "outputs": [],
      "source": [
        "class Student:                                   #Parent class\n",
        "\n",
        "    def __init__(self,name,age):                 # Defining a super class method\n",
        "        self.name=name                           # Super-class Attribute_1: Name\n",
        "        self.age=age                             # Super-class Attribute_2: Age"
      ]
    },
    {
      "cell_type": "code",
      "execution_count": 18,
      "metadata": {
        "id": "-pGf93GGZSHN",
        "outputId": "5a70b148-62a1-46be-9f96-324fb6202c35"
      },
      "outputs": [
        {
          "name": "stdout",
          "output_type": "stream",
          "text": [
            "13125.0\n",
            "sd24gmail.com\n",
            "{'name': 'kd', 'age': 23, 'stipend': 13125.0}\n",
            "True\n"
          ]
        }
      ],
      "source": [
        "# 1st Subclass and 1st Inheritance\n",
        "\n",
        "class CollegeStudent(Student):                   # Child class,(Inherits all the methods and attributes of parent class)\n",
        "\n",
        "    def __init__(self,name,age,stipend):         # Adding extra attribute to the child class\n",
        "        super().__init__(name,age)               # Same as declaring self.name=name, self.age=age\n",
        "        self.stipend = 1.05*stipend\n",
        "\n",
        "    def email(self):\n",
        "        return self.name.lower()+str(self.age)+'gmail.com'\n",
        "\n",
        "cs1=CollegeStudent('kd',23,12500)               # Inheriting parent class attributes to child class\n",
        "cs2=CollegeStudent('SD',24,15000)\n",
        "\n",
        "print(cs1.stipend)                              # Shows Attr. of parent class inerited by child class\n",
        "print(cs2.email())                              # Shows method of child class has inherited the methd(email) of parent class\n",
        "print(cs1.__dict__)                             # Prints all attributes of the class of the cs1 object\n",
        "print(issubclass(CollegeStudent, Student))      # Prints True if CollegeStudent is a subclass of parent class Student\n",
        "#help(College_Student)\n"
      ]
    },
    {
      "cell_type": "code",
      "execution_count": 17,
      "metadata": {
        "id": "-BA2Kto3ZSHN",
        "outputId": "18f7276d-4944-42c5-f94c-b8f034038d78"
      },
      "outputs": [
        {
          "name": "stdout",
          "output_type": "stream",
          "text": [
            "XI\n",
            "2003\n"
          ]
        }
      ],
      "source": [
        "# 2nd Subclass and 2nd Inheritance\n",
        "class School_Student(Student):\n",
        "\n",
        "    def __init__(self,name,age,std,roll):\n",
        "        super().__init__(name,age)\n",
        "        self.std=std\n",
        "        self.roll=roll\n",
        "\n",
        "    def BirthYear(self):\n",
        "        return 2020-self.age\n",
        "\n",
        "ss1=School_Student('MD',17,'XI',56)\n",
        "print(ss1.std)\n",
        "print(ss1.BirthYear())"
      ]
    },
    {
      "cell_type": "markdown",
      "metadata": {
        "id": "FJUT_qrGZSHN"
      },
      "source": [
        "### Example 7.0\n",
        "**`Method Resolution Order(MRO)`:**<br>\n",
        "Method Resolution Order (MRO) is a concept used in multiple inheritance in object-oriented programming languages, particularly in languages like Python, to determine the order in which base classes are considered when looking up attributes and methods of a derived class. MRO is essential for resolving potential conflicts and ambiguities that can arise in a multiple inheritance hierarchy.<br>\n",
        "For Example: <br>\n",
        "- In class Z(X,Y), Python will look for the name attribute starting from class Z > class X > class Y.\n",
        "- In class In class Z(Y,X), Python will look for class W(Y,X), the look up starts from class W>class Y>class X."
      ]
    },
    {
      "cell_type": "markdown",
      "metadata": {},
      "source": [
        "##### Undestanding MRO with constructor calling"
      ]
    },
    {
      "cell_type": "code",
      "execution_count": 19,
      "metadata": {
        "id": "p_EfAXtvZSHN",
        "outputId": "f7f15323-a342-4d7b-ef05-95dcee80a797"
      },
      "outputs": [
        {
          "name": "stdout",
          "output_type": "stream",
          "text": [
            "In class A \n"
          ]
        }
      ],
      "source": [
        "class A:\n",
        "    def __init__(self):\n",
        "        print(\"In class A \")\n",
        "\n",
        "class B(A):\n",
        "    def f2(self):\n",
        "        print(\"f2 is working\")\n",
        "#a=A()                  # As soon as the oject is created it calls the constructor ie __init__\n",
        "b=B()                   # As B is a sub-class of A when the object of B is created it calls the constructor of A as well"
      ]
    },
    {
      "cell_type": "code",
      "execution_count": 20,
      "metadata": {
        "id": "TdAoF5gAZSHO",
        "outputId": "8aecef63-9198-4b86-e733-2cbfa233266e"
      },
      "outputs": [
        {
          "name": "stdout",
          "output_type": "stream",
          "text": [
            "In class B\n"
          ]
        }
      ],
      "source": [
        "class A:\n",
        "    def __init__(self):         # constructor of class A\n",
        "        print(\"In class A\")\n",
        "\n",
        "class B(A):\n",
        "    def __init__(self):        # constructor of class B\n",
        "        print(\"In class B\")\n",
        "\n",
        "#a=A()\n",
        "b=B()  # Like the previous example the object of class B ie b doesnot call..\n",
        "       # the constructor of class A when a constructor in class B is already there"
      ]
    },
    {
      "cell_type": "code",
      "execution_count": 22,
      "metadata": {
        "id": "84sVl6UyZSHO",
        "outputId": "484465c8-b767-4026-bb71-e5c0e1e20ff7"
      },
      "outputs": [
        {
          "name": "stdout",
          "output_type": "stream",
          "text": [
            "In class A\n",
            "In class B\n"
          ]
        }
      ],
      "source": [
        "class A:\n",
        "    def __init__(self):         # constructor of class A\n",
        "        print(\"In class A\")\n",
        "\n",
        "class B(A):\n",
        "    def __init__(self):        # constructor of class B\n",
        "        super().__init__()\n",
        "        print(\"In class B\")\n",
        "\n",
        "#a=A()\n",
        "b=B()   # Using Super keyword helps to call the constructors of both class A & B"
      ]
    },
    {
      "cell_type": "code",
      "execution_count": 8,
      "metadata": {
        "id": "GMJQW3f8ZSHO",
        "outputId": "fc6dcb04-faf2-47c9-c269-4c9919707b33",
        "scrolled": true
      },
      "outputs": [
        {
          "name": "stdout",
          "output_type": "stream",
          "text": [
            "In class A\n",
            "In class K\n",
            "f1-A is working\n",
            "In class B\n",
            "f1-B is working\n",
            "Order of execution : \n",
            " (<class '__main__.K'>, <class '__main__.A'>, <class '__main__.B'>, <class 'object'>)\n"
          ]
        }
      ],
      "source": [
        "class A:\n",
        "    def __init__(self):         # constructor of class A\n",
        "        print(\"In class A\")\n",
        "    def f1(self):\n",
        "        print(\"f1-A is working\")\n",
        "\n",
        "class B:\n",
        "    def __init__(self):        # constructor of class B\n",
        "        print(\"In class B\")\n",
        "    def f1(self):\n",
        "        print(\"f1-B is working\")\n",
        "\n",
        "class K(A,B):\n",
        "    def __init__(self):      # constructor of class K\n",
        "        super().__init__()\n",
        "        print(\"In class K\")\n",
        "\n",
        "    def f(self):\n",
        "        B().f1()          # To call both the __init__ and f1 method to get executed\n",
        "\n",
        "k=K()        # Due to MRO only the class A __init___() method gets executes although both A and B are superclass of K\n",
        "k.f1()       # f1 method is common to both class A & B but the method f1 of class A gets executed due to MRO\n",
        "k.f()\n",
        "print(\"Order of execution : \\n\", K.__mro__)"
      ]
    },
    {
      "cell_type": "markdown",
      "metadata": {
        "id": "HvjbXSklZSHO"
      },
      "source": [
        "###  Example 8.0"
      ]
    },
    {
      "cell_type": "markdown",
      "metadata": {},
      "source": [
        "**`Polymorphism`:**<br>\n",
        "Poly=Many, Morph=Forms.The word polymorphism means having many forms."
      ]
    },
    {
      "cell_type": "code",
      "execution_count": 10,
      "metadata": {},
      "outputs": [
        {
          "name": "stdout",
          "output_type": "stream",
          "text": [
            "5\n",
            "3\n"
          ]
        }
      ],
      "source": [
        "# polymorphic attribute of function len\n",
        "\n",
        "# len() being used for a string\n",
        "print(len(\"geeks\"))\n",
        " \n",
        "# len() being used for a list\n",
        "print(len([10, 20, 30]))"
      ]
    },
    {
      "cell_type": "markdown",
      "metadata": {},
      "source": [
        "##### Example 8.1 : user-defined polymorphic function"
      ]
    },
    {
      "cell_type": "code",
      "execution_count": 11,
      "metadata": {},
      "outputs": [
        {
          "name": "stdout",
          "output_type": "stream",
          "text": [
            "5\n",
            "9\n"
          ]
        }
      ],
      "source": [
        "def add(x, y, z = 0):\n",
        "    return x + y+ z\n",
        " \n",
        "# Driver code\n",
        "print(add(2, 3))\n",
        "print(add(2, 3, 4))"
      ]
    },
    {
      "cell_type": "markdown",
      "metadata": {},
      "source": [
        "##### Example 8.2 : Polymorphic Classes"
      ]
    },
    {
      "cell_type": "markdown",
      "metadata": {},
      "source": [
        "Here method name is same but the method belongs to two different classes. The problem with the above approach is that the developer has to remember the name of each function separately. In a much larger program, it is very difficult to memorize the name of the functions for every small operation. Here comes the role of method overloading"
      ]
    },
    {
      "cell_type": "code",
      "execution_count": 14,
      "metadata": {},
      "outputs": [
        {
          "name": "stdout",
          "output_type": "stream",
          "text": [
            "Area of square:  25\n",
            "Area of triangle:  10.0\n"
          ]
        }
      ],
      "source": [
        "class Square:\n",
        "    side = 5     \n",
        "    def calculate_area(self):\n",
        "        return self.side * self.side\n",
        "\n",
        "class Triangle:\n",
        "    base = 5\n",
        "    height = 4\n",
        "    def calculate_area(self):\n",
        "        return 0.5 * self.base * self.height\n",
        "\n",
        "sq = Square()\n",
        "tri = Triangle()\n",
        "print(\"Area of square: \", sq.calculate_area())\n",
        "print(\"Area of triangle: \", tri.calculate_area())"
      ]
    },
    {
      "cell_type": "markdown",
      "metadata": {
        "id": "1OzBQeAmZSHO"
      },
      "source": [
        "#### a. Operator Overloading"
      ]
    },
    {
      "cell_type": "markdown",
      "metadata": {},
      "source": [
        "Operator Overloading means giving extended meaning beyond their predefined operational meaning.Operator overloading in Python is the ability of a single operator to perform more than one operation based on the class (type) of operands. For example operator + is used to add two integers as well as join two strings and merge two lists. It is achievable because ‘+’ operator is overloaded by int class and str class."
      ]
    },
    {
      "cell_type": "code",
      "execution_count": 16,
      "metadata": {},
      "outputs": [
        {
          "name": "stdout",
          "output_type": "stream",
          "text": [
            "+ operator as addition :  5\n",
            "+ operator as concatenation :  Hello World!\n"
          ]
        }
      ],
      "source": [
        "print(\"+ operator as addition : \", 2+3)         # '+' operator is used to perform sum\n",
        "print(\"+ operator as concatenation : \", \"Hello \"+\"World!\")"
      ]
    },
    {
      "cell_type": "markdown",
      "metadata": {},
      "source": [
        "In the example below ,  2 and 3 are the objects of the class int. as int is the class so we got to have methods associated with it.Here we have a method called \"add\" and a and b are the arguments associated with it. Similarly in case of \"hello\" and \"world\" python is smart enough to recongnize that they are of string datatype hence when we apply + operator it invokes the str class first and then calls the \\_\\_add__() method."
      ]
    },
    {
      "cell_type": "code",
      "execution_count": 19,
      "metadata": {},
      "outputs": [
        {
          "data": {
            "text/plain": [
              "'Hello World'"
            ]
          },
          "execution_count": 19,
          "metadata": {},
          "output_type": "execute_result"
        }
      ],
      "source": [
        "int.__add__(2,3)      \n",
        "str.__add__(\"Hello \", \"World\")"
      ]
    },
    {
      "cell_type": "markdown",
      "metadata": {},
      "source": [
        "**How to overload the operators in Python?**<br>\n",
        "To perform operator overloading, Python provides some special function or magic function that is automatically invoked when it is associated with that particular operator. For example, when we use + operator, the magic method add is automatically invoked in which the operation for + operator is defined."
      ]
    },
    {
      "cell_type": "code",
      "execution_count": 20,
      "metadata": {},
      "outputs": [
        {
          "name": "stdout",
          "output_type": "stream",
          "text": [
            "3\n",
            "Hello World!\n"
          ]
        }
      ],
      "source": [
        "class A:\n",
        "    def __init__(self, a=0):\n",
        "        self.a = a\n",
        " \n",
        "    # adding two objects\n",
        "    def __add__(self, other):    # __add__ is a magic method\n",
        "        Sum=self.a + other.a\n",
        "        return Sum\n",
        "ob1 = A(1)\n",
        "ob2 = A(2)\n",
        "ob3 = A(\"Hello \")\n",
        "ob4 = A(\"World!\")\n",
        " \n",
        "print(ob1 + ob2)\n",
        "print(ob3 + ob4)"
      ]
    },
    {
      "cell_type": "code",
      "execution_count": null,
      "metadata": {
        "id": "x6Hq6af8ZSHO",
        "outputId": "a428205a-4c4d-416b-9764-5b9bed46acd2"
      },
      "outputs": [
        {
          "name": "stdout",
          "output_type": "stream",
          "text": [
            "175\n",
            "172\n"
          ]
        }
      ],
      "source": [
        "class Student:\n",
        "    def __init__(self,m1,m2):\n",
        "        self.m1=m1\n",
        "        self.m2=m2\n",
        "\n",
        "    def __add__(self,other):\n",
        "        marks1=self.m1+other.m1\n",
        "        marks2=self.m1+other.m2\n",
        "        s3=Student(marks1,marks2)\n",
        "        return s3\n",
        "\n",
        "s1=Student(85,88)\n",
        "s2=Student(90,87)\n",
        "s3=s1+s2\n",
        "print(s3.m1)\n",
        "print(s3.m2)\n",
        "\n",
        "# RESTUDY REQUIRED_ Telusko"
      ]
    },
    {
      "cell_type": "markdown",
      "metadata": {
        "id": "fz24P5W-ZSHO"
      },
      "source": [
        "#### b.Method Overloading"
      ]
    },
    {
      "cell_type": "markdown",
      "metadata": {},
      "source": [
        "Overloading is a method or operator that can do different functionalities with the same name.<br>\n",
        "Methods in Python can be called with zero, one, or more parameters. This process of calling the same method in different ways is called method overloading."
      ]
    },
    {
      "cell_type": "code",
      "execution_count": null,
      "metadata": {
        "id": "B8DhOHr3ZSHP",
        "outputId": "c742382d-90db-44fe-9aa9-dc24882b0489"
      },
      "outputs": [
        {
          "name": "stdout",
          "output_type": "stream",
          "text": [
            "10\n"
          ]
        }
      ],
      "source": [
        "# Python doesnot support the concept of Method Overloading\n",
        "class A:\n",
        "    def sum(self,a,b):\n",
        "        print(a+b)\n",
        "    def sum(self,a,b,c):\n",
        "        print(a+b+c)\n",
        "\n",
        "a=A()\n",
        "#a.sum(2,3)               Gives error as the sum() method has 3 parameters in the last declaration\n",
        "a.sum(2,3,5)"
      ]
    },
    {
      "cell_type": "code",
      "execution_count": null,
      "metadata": {
        "id": "r-ULWS9YZSHP",
        "outputId": "90ad5ba3-9a10-4083-bc62-8f16e0b92b7c"
      },
      "outputs": [
        {
          "name": "stdout",
          "output_type": "stream",
          "text": [
            "10\n",
            "5\n"
          ]
        }
      ],
      "source": [
        "# To execute the desired result\n",
        "class K:\n",
        "    def sum(self,a=None,b=None,c=None):\n",
        "        if a!=None and b!=None and c!=None:\n",
        "            print(a+b+c)\n",
        "        elif a!=None and b!=None:\n",
        "            print(a+b)\n",
        "k=K()\n",
        "k.sum(2,3,5)\n",
        "k.sum(2,3)"
      ]
    },
    {
      "cell_type": "markdown",
      "metadata": {
        "id": "KNeOD9bRZSHP"
      },
      "source": [
        "#### c.Method Overriding"
      ]
    },
    {
      "cell_type": "markdown",
      "metadata": {},
      "source": [
        "Method overriding in Python is when you have two methods with the same name that each perform different tasks. This is an important feature of inheritance in Python.<br>\n",
        "There are two prerequisite conditions for Method overriding:<br>\n",
        "1. Inheritance should be present in the code, method overriding cannot be performed in the same class, and overriding can only be executed when a child class is derived through inheritance.\n",
        "2. The child class should have the same method name and the same number of parameters for that method as that of the parent class"
      ]
    },
    {
      "cell_type": "code",
      "execution_count": 21,
      "metadata": {
        "id": "HK1pKgZNZSHP",
        "outputId": "a67196d4-3bff-415a-cb9e-330984362fe1"
      },
      "outputs": [
        {
          "name": "stdout",
          "output_type": "stream",
          "text": [
            "In class A\n",
            "In class B\n"
          ]
        }
      ],
      "source": [
        "class A:\n",
        "    def show(self):\n",
        "        print(\"In class A\")\n",
        "        \n",
        "class B(A):\n",
        "    def show(self):\n",
        "        print(\"In class B\")\n",
        "\n",
        "a=A()\n",
        "b=B()\n",
        "a.show()\n",
        "b.show()"
      ]
    },
    {
      "cell_type": "markdown",
      "metadata": {},
      "source": [
        "**`Difference between Method Overloading and Method Overriding`**<br>\n",
        "| Feature                 | Method Overloading                                  | Method Overriding                                |\n",
        "|-------------------------|----------------------------------------------------|--------------------------------------------------|\n",
        "| Definition              | Defining multiple methods in the same class with the same name but different parameter lists. | Providing a new implementation for an existing method in a subclass. |\n",
        "| Inheritance             | Not dependent on inheritance. Can be done in the same class. | Dependent on inheritance. Occurs between a base class and a derived class. |\n",
        "| Number of methods       | Multiple methods with the same name but different parameter lists exist in the same class. | One method in the base class is overridden by a method with the same name in the derived class. |\n",
        "| Signature               | Different parameter lists (different number or types of parameters). | The same method name and parameter list (method signature). |\n",
        "| Polymorphism            | Not related to polymorphism. No runtime selection of methods based on arguments. | Achieves runtime polymorphism. The appropriate method is selected at runtime based on the object's type. |\n",
        "| Example                 | ```python def add(a, b): pass def add(a, b, c): pass ``` | ```python class Animal: def speak(self): pass class Dog(Animal): def speak(self): pass ``` |\n",
        "| Usage                   | Python does not support method overloading by default, so you must use default parameter values and conditional statements to achieve it. | Method overriding is used when you want to provide a specific implementation of a method in a subclass that is different from the base class. |\n",
        "| Resolution              | The method to call is determined at compile-time based on the number and types of arguments passed. | The method to call is determined at runtime based on the object's actual type. |\n",
        "| Static/Dynamic Binding  | Generally involves static binding (early binding) since the method to call is determined at compile-time. | Involves dynamic binding (late binding) since the method is determined at runtime. |\n",
        "| Required in Python      | Not required, but can be achieved using techniques like default parameter values and conditionals. | Required in Python when you want to provide a specific implementation in a subclass. |\n",
        "| Applicability           | Can be used to provide methods with the same name but different behaviors based on argument variations. | Used to provide specialized behavior for a method in a derived class while keeping the same method name. |\n"
      ]
    },
    {
      "cell_type": "markdown",
      "metadata": {
        "id": "BlKpMKLxZSHV"
      },
      "source": [
        "                                     __repr__() and __str__()"
      ]
    },
    {
      "cell_type": "code",
      "execution_count": null,
      "metadata": {
        "id": "N0LuJxEKZSHV"
      },
      "outputs": [],
      "source": [
        "                                   # Without __repr__()\n",
        "# class Student:\n",
        "#     def __init__(self,name,age):\n",
        "#         self.name=name\n",
        "#         self.age=age\n",
        "#     def email(self):\n",
        "#         return self.name+str(self.age)+'gmail.com'\n",
        "# s1=Student('Krishnendu',23)\n",
        "# s1\n",
        "#                                   # With __repr__()\n",
        "\n",
        "# class Student:\n",
        "#     def __init__(self,name,age):\n",
        "#         self.name=name\n",
        "#         self.age=age\n",
        "#     def __repr__(self):\n",
        "#         return self.name+str(self.age)+'gmail.com'\n",
        "\n",
        "# s1=Student('Krishnendu',23)\n",
        "# repr(s1)\n",
        "\n",
        "#                                  # with __repr__()+ __str__()\n",
        "\n",
        "# class Student:\n",
        "#     def __init__(self,name,age):\n",
        "#         self.name=name\n",
        "#         self.age=age\n",
        "#     def __repr__(self):\n",
        "#         return self.name+str(self.age)+'gmail.com'\n",
        "#     def __str__(self):\n",
        "#         return '{}_{}'.format(self.name,self.age)\n",
        "\n",
        "# s1=Student('Krishnendu',23)\n",
        "# print(repr(s1))\n",
        "# print(s1.__repr__())\n",
        "# print(str(s1))\n",
        "# print(s1.__str__())"
      ]
    },
    {
      "cell_type": "code",
      "execution_count": null,
      "metadata": {
        "id": "xSkqtsPeZSHV"
      },
      "outputs": [],
      "source": []
    }
  ],
  "metadata": {
    "colab": {
      "provenance": []
    },
    "kernelspec": {
      "display_name": "Python 3",
      "language": "python",
      "name": "python3"
    },
    "language_info": {
      "codemirror_mode": {
        "name": "ipython",
        "version": 3
      },
      "file_extension": ".py",
      "mimetype": "text/x-python",
      "name": "python",
      "nbconvert_exporter": "python",
      "pygments_lexer": "ipython3",
      "version": "3.10.11"
    }
  },
  "nbformat": 4,
  "nbformat_minor": 0
}
