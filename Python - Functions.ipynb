{
 "cells": [
  {
   "cell_type": "markdown",
   "metadata": {},
   "source": [
    "### Basic Functions"
   ]
  },
  {
   "cell_type": "code",
   "execution_count": 1,
   "metadata": {},
   "outputs": [
    {
     "name": "stdout",
     "output_type": "stream",
     "text": [
      "Outside of fn()\n",
      "Hey\n"
     ]
    }
   ],
   "source": [
    "#Ex 1.0\n",
    "def fn():\n",
    "    print(\"Hey\")\n",
    "print(\"Outside of fn()\")\n",
    "fn()"
   ]
  },
  {
   "cell_type": "code",
   "execution_count": 2,
   "metadata": {},
   "outputs": [
    {
     "name": "stdout",
     "output_type": "stream",
     "text": [
      "10\n",
      "8\n"
     ]
    }
   ],
   "source": [
    "#Ex 2.0\n",
    "def fn1(x):             #x parameter\n",
    "    return 2*x         #returns the value, 2 times the input\n",
    "                      #calling the function and defining input x=5,4\n",
    "a=fn1(5);print(a)     #5= argument of the parameter x\n",
    "b=fn1(4);print(b)"
   ]
  },
  {
   "cell_type": "code",
   "execution_count": 3,
   "metadata": {},
   "outputs": [
    {
     "name": "stdout",
     "output_type": "stream",
     "text": [
      "5.0\n"
     ]
    }
   ],
   "source": [
    "#Ex 3.0\n",
    "def fn2(x,y):                   #multiple parameter passing\n",
    "    return (x**2+y**2)**0.5\n",
    "r=fn2(3,4);print(r)"
   ]
  },
  {
   "cell_type": "code",
   "execution_count": 4,
   "metadata": {},
   "outputs": [
    {
     "name": "stdout",
     "output_type": "stream",
     "text": [
      "13.0\n"
     ]
    }
   ],
   "source": [
    "#Ex 4.0\n",
    "def fn2(x,y):                   \n",
    "     print((x**2+y**2)**0.5)    #Printing without return statement\n",
    "fn2(5,12)"
   ]
  },
  {
   "cell_type": "code",
   "execution_count": 5,
   "metadata": {},
   "outputs": [
    {
     "name": "stdout",
     "output_type": "stream",
     "text": [
      "outside of fn3 \n",
      "The values of x & y are : 2 and  3\n",
      "Inside of fn3\n",
      "5\n"
     ]
    }
   ],
   "source": [
    "#Ex 5.0\n",
    "def fn3(x,y):\n",
    "    print(\"The values of x & y are :\", x, 'and ',y)\n",
    "    print(\"Inside of fn3\")\n",
    "    return x+y\n",
    "print(\"outside of fn3 \")\n",
    "f=fn3(2,3);print(f)"
   ]
  },
  {
   "cell_type": "code",
   "execution_count": 6,
   "metadata": {},
   "outputs": [
    {
     "name": "stdout",
     "output_type": "stream",
     "text": [
      "BMI :\n",
      "27.68166089965398\n",
      "KD is overweight\n"
     ]
    }
   ],
   "source": [
    "#Ex 6.0\n",
    "\t#BMI calculator\n",
    "def BMI_calc(name,weight_kg,height_m):\n",
    "    BMI=(weight_kg/height_m**2)\n",
    "    print(\"BMI :\")\n",
    "    print(BMI)\n",
    "    if BMI<25:\n",
    "        return name +\" is not overweight\"\n",
    "    else:\n",
    "        return name +\" is overweight\"\n",
    "X=BMI_calc(input(\"Name:\"),\n",
    "float(input(\"Weight(kg):\")),\n",
    "float(input(\"height(m)):\")))\n",
    "print(X)"
   ]
  },
  {
   "cell_type": "markdown",
   "metadata": {},
   "source": [
    "### Lambda Function"
   ]
  },
  {
   "cell_type": "code",
   "execution_count": 7,
   "metadata": {},
   "outputs": [
    {
     "name": "stdout",
     "output_type": "stream",
     "text": [
      "7\n",
      "7\n"
     ]
    }
   ],
   "source": [
    "#Example 1.0\n",
    "def f(x):\n",
    "    return 3*x+1\n",
    "print(f(2))\n",
    "\n",
    "F=lambda x: 3*x+1 ; print(F(2))                #Lambda s a keyword"
   ]
  },
  {
   "cell_type": "code",
   "execution_count": 8,
   "metadata": {},
   "outputs": [
    {
     "name": "stdout",
     "output_type": "stream",
     "text": [
      "3 8 48\n",
      "3 8 48\n"
     ]
    }
   ],
   "source": [
    "#Example 2.0\n",
    "def f(a,b,c):\n",
    "    \"\"\"Returns f(x)=ax^2+bx+c\"\"\"\n",
    "    return lambda x: a*x**2+b*x+c\n",
    "    \n",
    "g=f(1,4,3)\n",
    "print(g(0),g(1),g(5))\n",
    "#  OR \n",
    "print(f(1,4,3)(0),f(1,4,3)(1),f(1,4,3)(5))"
   ]
  },
  {
   "cell_type": "code",
   "execution_count": 9,
   "metadata": {},
   "outputs": [
    {
     "name": "stdout",
     "output_type": "stream",
     "text": [
      "Krishnendu Dey\n"
     ]
    }
   ],
   "source": [
    "#Example 3.0\n",
    "name= lambda fn,ln: fn.strip().title()+' '+ln.strip().title()\n",
    "print(name('krishNendu','DeY'))"
   ]
  },
  {
   "cell_type": "code",
   "execution_count": 10,
   "metadata": {},
   "outputs": [
    {
     "name": "stdout",
     "output_type": "stream",
     "text": [
      "[('Kolkata', 86.0), ('Pune', 80.6), ('Ranchi', 89.6), ('Delhi', 95.0)]\n"
     ]
    }
   ],
   "source": [
    "#Example 4.0\n",
    "temp=[('Kolkata',30),('Pune',27),('Ranchi',32),('Delhi',35)]\n",
    "celcious_to_ferenheit=lambda data :(data[0],9/5*data[1]+32)\n",
    "print(list(map(celcious_to_ferenheit,temp)))"
   ]
  },
  {
   "cell_type": "markdown",
   "metadata": {},
   "source": [
    "### Map, Filter, Reduce"
   ]
  },
  {
   "cell_type": "code",
   "execution_count": 11,
   "metadata": {},
   "outputs": [
    {
     "name": "stdout",
     "output_type": "stream",
     "text": [
      "[12.566370614359172, 50.26548245743669, 113.09733552923255, 201.06192982974676]\n",
      "[12.566370614359172, 50.26548245743669, 113.09733552923255, 201.06192982974676]\n",
      "[12.566370614359172, 50.26548245743669, 113.09733552923255, 201.06192982974676]\n"
     ]
    }
   ],
   "source": [
    "#Determining area of circles of different radii\n",
    "#Method 1\n",
    "import math\n",
    "radii=[2,4,6,8]\n",
    "areas=[]\n",
    "for radious in radii:\n",
    "    area= math.pi*(radious**2)\n",
    "    areas.append(area)\n",
    "print(areas)\n",
    "\n",
    "#Method 2.0\n",
    "import math\n",
    "radii=[2,4,6,8]\n",
    "areas=[]\n",
    "def area(radious):\n",
    "    return math.pi*radious**2\n",
    "for radious in radii:\n",
    "    areas.append(area(radious))\n",
    "print(areas)\n",
    "#Or\n",
    "import math\n",
    "radii=[2,4,6,8]                        \n",
    "areas=[]\n",
    "def area(radious):\n",
    "    return math.pi*radious**2\n",
    "map(area,radii)\n",
    "print(list(map(area,radii)))\n",
    "        #data:       a1,a2,a3.......\n",
    "        #function : f(x)\n",
    "        #map(f,data): f(a1),f(a2),f(a3)......."
   ]
  },
  {
   "cell_type": "code",
   "execution_count": 12,
   "metadata": {},
   "outputs": [
    {
     "name": "stdout",
     "output_type": "stream",
     "text": [
      "57.13333333333333\n",
      "[77, 65, 94, 97, 85, 64, 95, 106]\n"
     ]
    }
   ],
   "source": [
    "#Filter function\n",
    "import statistics as st\n",
    "data=[44,77,65,94,32,15,97,85,64,35,95,14,2,32,106]\n",
    "average=st.mean(data)\n",
    "print(average)\n",
    "greater_than_avg= lambda x: x>average\n",
    "print(list(filter(greater_than_avg,data)))  #Using filter fn"
   ]
  },
  {
   "cell_type": "code",
   "execution_count": 14,
   "metadata": {},
   "outputs": [
    {
     "name": "stdout",
     "output_type": "stream",
     "text": [
      "12000000\n"
     ]
    }
   ],
   "source": [
    "#Reduce function\n",
    "from functools import reduce \n",
    "data=[10,20,30,40,50]\n",
    "multiply = lambda x,y : x*y\n",
    "print(reduce(multiply,data))              #Using reduce function     "
   ]
  },
  {
   "cell_type": "code",
   "execution_count": null,
   "metadata": {},
   "outputs": [],
   "source": []
  }
 ],
 "metadata": {
  "kernelspec": {
   "display_name": "tf_env",
   "language": "python",
   "name": "python3"
  },
  "language_info": {
   "codemirror_mode": {
    "name": "ipython",
    "version": 3
   },
   "file_extension": ".py",
   "mimetype": "text/x-python",
   "name": "python",
   "nbconvert_exporter": "python",
   "pygments_lexer": "ipython3",
   "version": "3.10.11"
  }
 },
 "nbformat": 4,
 "nbformat_minor": 2
}
